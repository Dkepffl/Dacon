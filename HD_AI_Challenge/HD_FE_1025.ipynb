{
  "cells": [
    {
      "cell_type": "markdown",
      "metadata": {
        "id": "view-in-github",
        "colab_type": "text"
      },
      "source": [
        "<a href=\"https://colab.research.google.com/github/Dkepffl/Dacon/blob/main/HD_AI_Challenge/HD_FE_1025.ipynb\" target=\"_parent\"><img src=\"https://colab.research.google.com/assets/colab-badge.svg\" alt=\"Open In Colab\"/></a>"
      ]
    },
    {
      "cell_type": "markdown",
      "metadata": {
        "id": "CHj4P9i5s3Dx"
      },
      "source": [
        "# **HD 현대 AI Chalenge**\n",
        "- 구글 드라이브 어마운트를 통해 데이터 로드\n",
        "- 10.22 기준 리더보드 최저 점수(45.6250669998) 코드\n"
      ]
    },
    {
      "cell_type": "markdown",
      "metadata": {
        "id": "LVTp6BEmutI-"
      },
      "source": [
        "## **| 구글 드라이브 어마운트**"
      ]
    },
    {
      "cell_type": "code",
      "execution_count": null,
      "metadata": {
        "colab": {
          "base_uri": "https://localhost:8080/"
        },
        "id": "xZCT1JmvUANR",
        "outputId": "510de50d-ed64-4429-fed7-b5652d914f5f"
      },
      "outputs": [
        {
          "output_type": "stream",
          "name": "stdout",
          "text": [
            "Drive already mounted at /content/drive; to attempt to forcibly remount, call drive.mount(\"/content/drive\", force_remount=True).\n"
          ]
        }
      ],
      "source": [
        "from google.colab import drive\n",
        "drive.mount('/content/drive')"
      ]
    },
    {
      "cell_type": "markdown",
      "metadata": {
        "id": "xlaAw-VNuvR6"
      },
      "source": [
        "## **| 필요한 라이브러리 로드**"
      ]
    },
    {
      "cell_type": "code",
      "execution_count": null,
      "metadata": {
        "id": "9-ZknC5OTJ7w"
      },
      "outputs": [],
      "source": [
        "# import libraries\n",
        "import numpy as np\n",
        "import pandas as pd\n",
        "\n",
        "import seaborn as sns\n",
        "import matplotlib.pyplot as plt\n",
        "\n",
        "import os"
      ]
    },
    {
      "cell_type": "markdown",
      "metadata": {
        "id": "7ZlSE5r9uxBk"
      },
      "source": [
        "## **| 작업 폴더 변경 및 데이터 로드**"
      ]
    },
    {
      "cell_type": "code",
      "execution_count": null,
      "metadata": {
        "colab": {
          "base_uri": "https://localhost:8080/",
          "height": 35
        },
        "id": "Usj-__veTLYP",
        "outputId": "d3965873-14ca-448a-d16c-4b12e19b1b16"
      },
      "outputs": [
        {
          "output_type": "execute_result",
          "data": {
            "text/plain": [
              "'/content/drive/MyDrive/HD현대 AI Challenge'"
            ],
            "application/vnd.google.colaboratory.intrinsic+json": {
              "type": "string"
            }
          },
          "metadata": {},
          "execution_count": 27
        }
      ],
      "source": [
        "os.chdir(\"/content/drive/MyDrive/HD현대 AI Challenge\") # 각자 드라이브에 맞춰 변경\n",
        "os.getcwd()"
      ]
    },
    {
      "cell_type": "code",
      "execution_count": null,
      "metadata": {
        "id": "9zCAgA4kUazx"
      },
      "outputs": [],
      "source": [
        "train = pd.read_csv('Data/train.csv').drop('SAMPLE_ID', axis=1)\n",
        "test = pd.read_csv('Data/test.csv').drop('SAMPLE_ID', axis=1)"
      ]
    },
    {
      "cell_type": "code",
      "execution_count": null,
      "metadata": {
        "id": "NFjSyTGtvw-2"
      },
      "outputs": [],
      "source": [
        "# 원본 데이터셋 별도 저장\n",
        "train_proto = train.copy()\n",
        "test_proto = test.copy()"
      ]
    },
    {
      "cell_type": "markdown",
      "metadata": {
        "id": "xSUUjNuDU4fT"
      },
      "source": [
        "## **| 데이터 전처리**"
      ]
    },
    {
      "cell_type": "markdown",
      "metadata": {
        "id": "qPmcy5YwU9Pq"
      },
      "source": [
        "### **1. ATA 변수 처리**"
      ]
    },
    {
      "cell_type": "code",
      "execution_count": null,
      "metadata": {
        "id": "va5YyDf-EtFd"
      },
      "outputs": [],
      "source": [
        "from datetime import datetime\n",
        "\n",
        "# datetime 컬럼 처리\n",
        "train['ATA'] = pd.to_datetime(train['ATA'])\n",
        "test['ATA'] = pd.to_datetime(test['ATA'])\n",
        "\n",
        "# datetime을 여러 파생 변수로 변환\n",
        "for df in [train, test]:\n",
        "  df['YEAR'] = df['ATA'].dt.year\n",
        "  df['MONTH'] = df['ATA'].dt.month\n",
        "  df['DAY'] = df['ATA'].dt.day\n",
        "  df['HOUR'] = df['ATA'].dt.hour\n",
        "  df['MINUTE'] = df['ATA'].dt.minute\n",
        "  df['WEEKDAY'] = df['ATA'].dt.weekday"
      ]
    },
    {
      "cell_type": "code",
      "execution_count": null,
      "metadata": {
        "id": "IcekLfxpJpgJ"
      },
      "outputs": [],
      "source": [
        "train.drop('ATA', axis=1, inplace=True)\n",
        "test.drop('ATA', axis=1, inplace=True)"
      ]
    },
    {
      "cell_type": "markdown",
      "metadata": {
        "id": "D82J14cfVDLJ"
      },
      "source": [
        "### **2. 파생 변수 추가**"
      ]
    },
    {
      "cell_type": "markdown",
      "metadata": {
        "id": "f9IEPomnvxY0"
      },
      "source": [
        "#### **선박 유형 별 선박 크기 관련 컬럼 추가**"
      ]
    },
    {
      "cell_type": "code",
      "execution_count": null,
      "metadata": {
        "id": "hL5ZrJvevg1C"
      },
      "outputs": [],
      "source": [
        "temp_train=train.copy()\n",
        "temp_test=test.copy()\n",
        "\n",
        "temp_train['SIZE']= temp_train['GT']+temp_train['BREADTH']+temp_train['DEADWEIGHT']+temp_train['DEPTH']+temp_train['DRAUGHT']+temp_train['LENGTH']\n",
        "temp_test['SIZE']= temp_test['GT']+temp_test['BREADTH']+temp_test['DEADWEIGHT']+temp_test['DEPTH']+temp_test['DRAUGHT']+temp_test['LENGTH']"
      ]
    },
    {
      "cell_type": "code",
      "execution_count": null,
      "metadata": {
        "id": "oXHfKscqxnXA"
      },
      "outputs": [],
      "source": [
        "ship_type1=train['SHIP_TYPE_CATEGORY'].unique().tolist()\n",
        "ship_type2=test['SHIP_TYPE_CATEGORY'].unique().tolist()"
      ]
    },
    {
      "cell_type": "code",
      "execution_count": null,
      "metadata": {
        "id": "EDPQ6-PexvRw"
      },
      "outputs": [],
      "source": [
        "SHIP_dist_train=temp_train.groupby('SHIP_TYPE_CATEGORY')['SIZE'].agg(['mean','std']).reset_index()\n",
        "SHIP_dist_test=temp_test.groupby('SHIP_TYPE_CATEGORY')['SIZE'].agg(['mean','std']).reset_index()"
      ]
    },
    {
      "cell_type": "code",
      "execution_count": null,
      "metadata": {
        "id": "cinONfkex7zg"
      },
      "outputs": [],
      "source": [
        "for ship in ship_type1:\n",
        "  train.loc[train['SHIP_TYPE_CATEGORY']==ship,'SIZE_MEAN'] = SHIP_dist_train.loc[SHIP_dist_train['SHIP_TYPE_CATEGORY']==ship,'mean'].values[0]\n",
        "  train.loc[train['SHIP_TYPE_CATEGORY']==ship,'SIZE_STD'] = SHIP_dist_train.loc[SHIP_dist_train['SHIP_TYPE_CATEGORY']==ship,'std'].values[0]\n",
        "\n",
        "for ship in ship_type2:\n",
        "  test.loc[test['SHIP_TYPE_CATEGORY']==ship,'SIZE_MEAN'] = SHIP_dist_test.loc[SHIP_dist_test['SHIP_TYPE_CATEGORY']==ship,'mean'].values[0]\n",
        "  test.loc[test['SHIP_TYPE_CATEGORY']==ship,'SIZE_STD'] = SHIP_dist_test.loc[SHIP_dist_test['SHIP_TYPE_CATEGORY']==ship,'std'].values[0]"
      ]
    },
    {
      "cell_type": "markdown",
      "metadata": {
        "id": "OgFi_xJpTV05"
      },
      "source": [
        "#### **ARI_PO 별 DIST 통계량**"
      ]
    },
    {
      "cell_type": "code",
      "execution_count": null,
      "metadata": {
        "id": "vvPPr7MyvyPX"
      },
      "outputs": [],
      "source": [
        "port_list1=train['ARI_PO'].unique().tolist()\n",
        "port_list2=test['ARI_PO'].unique().tolist()"
      ]
    },
    {
      "cell_type": "code",
      "execution_count": null,
      "metadata": {
        "id": "6T9AvNtbk9px"
      },
      "outputs": [],
      "source": [
        "DIST_dist_train=train.groupby('ARI_PO')['DIST'].agg(['mean','std']).reset_index()\n",
        "DIST_dist_test=train.groupby('ARI_PO')['DIST'].agg(['mean','std']).reset_index()"
      ]
    },
    {
      "cell_type": "code",
      "execution_count": null,
      "metadata": {
        "id": "J0Dxp3OMZYXr"
      },
      "outputs": [],
      "source": [
        "for port in port_list1:\n",
        "  train.loc[train['ARI_PO']==port,'DIST_MEAN'] = DIST_dist_train.loc[DIST_dist_train['ARI_PO']==port,'mean'].values[0]\n",
        "  train.loc[train['ARI_PO']==port,'DIST_STD'] = DIST_dist_train.loc[DIST_dist_train['ARI_PO']==port,'std'].values[0]\n",
        "\n",
        "for port in port_list2:\n",
        "  test.loc[test['ARI_PO']==port,'DIST_MEAN'] = DIST_dist_test.loc[DIST_dist_test['ARI_PO']==port,'mean'].values[0]\n",
        "  test.loc[test['ARI_PO']==port,'DIST_STD'] = DIST_dist_test.loc[DIST_dist_test['ARI_PO']==port,'std'].values[0]"
      ]
    },
    {
      "cell_type": "markdown",
      "metadata": {
        "id": "VSgNs0MxbOI4"
      },
      "source": [
        "#### **ARI_CO 별 LENGTH 통계량**"
      ]
    },
    {
      "cell_type": "code",
      "execution_count": null,
      "metadata": {
        "id": "hHR5gYM-bOI5"
      },
      "outputs": [],
      "source": [
        "co_list1=train['ARI_CO'].unique().tolist()\n",
        "co_list2=test['ARI_CO'].unique().tolist()"
      ]
    },
    {
      "cell_type": "code",
      "execution_count": null,
      "metadata": {
        "id": "-ZxgobADbOI5"
      },
      "outputs": [],
      "source": [
        "LENGTH_length_train=train.groupby('ARI_CO')['LENGTH'].agg(['mean','std']).reset_index()\n",
        "LENGTH_length_test=train.groupby('ARI_CO')['LENGTH'].agg(['mean','std']).reset_index()"
      ]
    },
    {
      "cell_type": "code",
      "execution_count": null,
      "metadata": {
        "id": "Z7Xrdi-SbOI5"
      },
      "outputs": [],
      "source": [
        "for co in co_list1:\n",
        "  train.loc[train['ARI_CO']==co,'LENGTH_MEAN'] = LENGTH_length_train.loc[LENGTH_length_train['ARI_CO']==co,'mean'].values[0]\n",
        "  train.loc[train['ARI_CO']==co,'LENGTH_STD'] = LENGTH_length_train.loc[LENGTH_length_train['ARI_CO']==co,'std'].values[0]\n",
        "\n",
        "for co in co_list2:\n",
        "  test.loc[test['ARI_CO']==co,'LENGTH_MEAN'] = LENGTH_length_test.loc[LENGTH_length_test['ARI_CO']==co,'mean'].values[0]\n",
        "  test.loc[test['ARI_CO']==co,'LENGTH_STD'] = LENGTH_length_test.loc[LENGTH_length_test['ARI_CO']==co,'std'].values[0]"
      ]
    },
    {
      "cell_type": "markdown",
      "metadata": {
        "id": "rRCnwXoZVQ8r"
      },
      "source": [
        "### **3. 카테고리 변수 라벨 인코딩**"
      ]
    },
    {
      "cell_type": "code",
      "execution_count": null,
      "metadata": {
        "colab": {
          "base_uri": "https://localhost:8080/"
        },
        "id": "k1tyqoRuvZZd",
        "outputId": "8600f9a3-1d30-49ee-b6b3-e6178f3b132b"
      },
      "outputs": [
        {
          "output_type": "stream",
          "name": "stderr",
          "text": [
            "Encoding features: 100%|██████████| 6/6 [00:02<00:00,  2.05it/s]\n"
          ]
        }
      ],
      "source": [
        "from sklearn.preprocessing import LabelEncoder\n",
        "import bisect\n",
        "from tqdm import tqdm\n",
        "\n",
        "categorical_features = ['ARI_CO','ARI_PO', 'SHIP_TYPE_CATEGORY', 'ID', 'SHIPMANAGER','FLAG']\n",
        "encoders = {}\n",
        "\n",
        "for feature in tqdm(categorical_features, desc=\"Encoding features\"):\n",
        "  le = LabelEncoder()\n",
        "  train[feature] = le.fit_transform(train[feature].astype(str))\n",
        "  le_classes_set = set(le.classes_)\n",
        "  test[feature] = test[feature].map(lambda s: '-1' if s not in le_classes_set else s)\n",
        "  le_classes = le.classes_.tolist()\n",
        "  bisect.insort_left(le_classes, '-1')\n",
        "  le.classes_ = np.array(le_classes)\n",
        "  test[feature] = le.transform(test[feature].astype(str))\n",
        "  encoders[feature] = le"
      ]
    },
    {
      "cell_type": "markdown",
      "metadata": {
        "id": "XzXxdPjaVn3d"
      },
      "source": [
        "### **4. 미사용 컬럼 제거**"
      ]
    },
    {
      "cell_type": "code",
      "execution_count": null,
      "metadata": {
        "id": "ZxHScJMT5gcp"
      },
      "outputs": [],
      "source": [
        "train.drop(columns=['ID', 'SHIPMANAGER', 'FLAG', 'U_WIND', 'V_WIND', 'AIR_TEMPERATURE', 'BUILT','BN','DAY'], inplace=True)\n",
        "test.drop(columns=['ID', 'SHIPMANAGER', 'FLAG', 'U_WIND', 'V_WIND', 'AIR_TEMPERATURE', 'BUILT','BN','DAY'], inplace=True)"
      ]
    },
    {
      "cell_type": "code",
      "execution_count": null,
      "metadata": {
        "id": "nvBxesr647Xh",
        "colab": {
          "base_uri": "https://localhost:8080/"
        },
        "outputId": "4accc245-7a5e-4ddf-b54e-1fca250348e3"
      },
      "outputs": [
        {
          "output_type": "execute_result",
          "data": {
            "text/plain": [
              "CI_HOUR               1.000000\n",
              "DIST                  0.189145\n",
              "WEEKDAY               0.111632\n",
              "SHIP_TYPE_CATEGORY    0.087101\n",
              "LENGTH_MEAN           0.084063\n",
              "DEADWEIGHT            0.077954\n",
              "GT                    0.059661\n",
              "DEPTH                 0.051760\n",
              "BREADTH               0.043711\n",
              "DRAUGHT               0.040309\n",
              "SIZE_MEAN             0.040032\n",
              "LENGTH                0.035334\n",
              "DIST_STD              0.028731\n",
              "YEAR                  0.021253\n",
              "PORT_SIZE             0.020635\n",
              "SIZE_STD              0.013462\n",
              "LENGTH_STD            0.008949\n",
              "MINUTE                0.008505\n",
              "DIST_MEAN             0.007737\n",
              "HOUR                  0.007474\n",
              "ARI_CO                0.005224\n",
              "MONTH                 0.004286\n",
              "ARI_PO                0.000459\n",
              "ATA_LT                0.000090\n",
              "Name: CI_HOUR, dtype: float64"
            ]
          },
          "metadata": {},
          "execution_count": 44
        }
      ],
      "source": [
        "co_matrix=train.corr()\n",
        "correlations_with_x = co_matrix['CI_HOUR']\n",
        "correlations_with_x.abs().sort_values(ascending=False)"
      ]
    },
    {
      "cell_type": "markdown",
      "metadata": {
        "id": "Q_yZUmkpdEfo"
      },
      "source": [
        "### **5. 결측치 처리**"
      ]
    },
    {
      "cell_type": "code",
      "execution_count": null,
      "metadata": {
        "id": "SCf3eH_9dpYn"
      },
      "outputs": [],
      "source": [
        "train = train.fillna(-1)\n",
        "test = test.fillna(-1)"
      ]
    },
    {
      "cell_type": "markdown",
      "source": [
        "### **Autoencoder**"
      ],
      "metadata": {
        "id": "tRMh057PZZpS"
      }
    },
    {
      "cell_type": "code",
      "source": [
        "!pip install tensorflow"
      ],
      "metadata": {
        "colab": {
          "base_uri": "https://localhost:8080/"
        },
        "id": "R4sW_iQiafAu",
        "outputId": "d84950d1-542c-4604-98be-1e4599838c2d"
      },
      "execution_count": null,
      "outputs": [
        {
          "output_type": "stream",
          "name": "stdout",
          "text": [
            "Requirement already satisfied: tensorflow in /usr/local/lib/python3.10/dist-packages (2.14.0)\n",
            "Requirement already satisfied: absl-py>=1.0.0 in /usr/local/lib/python3.10/dist-packages (from tensorflow) (1.4.0)\n",
            "Requirement already satisfied: astunparse>=1.6.0 in /usr/local/lib/python3.10/dist-packages (from tensorflow) (1.6.3)\n",
            "Requirement already satisfied: flatbuffers>=23.5.26 in /usr/local/lib/python3.10/dist-packages (from tensorflow) (23.5.26)\n",
            "Requirement already satisfied: gast!=0.5.0,!=0.5.1,!=0.5.2,>=0.2.1 in /usr/local/lib/python3.10/dist-packages (from tensorflow) (0.5.4)\n",
            "Requirement already satisfied: google-pasta>=0.1.1 in /usr/local/lib/python3.10/dist-packages (from tensorflow) (0.2.0)\n",
            "Requirement already satisfied: h5py>=2.9.0 in /usr/local/lib/python3.10/dist-packages (from tensorflow) (3.9.0)\n",
            "Requirement already satisfied: libclang>=13.0.0 in /usr/local/lib/python3.10/dist-packages (from tensorflow) (16.0.6)\n",
            "Requirement already satisfied: ml-dtypes==0.2.0 in /usr/local/lib/python3.10/dist-packages (from tensorflow) (0.2.0)\n",
            "Requirement already satisfied: numpy>=1.23.5 in /usr/local/lib/python3.10/dist-packages (from tensorflow) (1.23.5)\n",
            "Requirement already satisfied: opt-einsum>=2.3.2 in /usr/local/lib/python3.10/dist-packages (from tensorflow) (3.3.0)\n",
            "Requirement already satisfied: packaging in /usr/local/lib/python3.10/dist-packages (from tensorflow) (23.2)\n",
            "Requirement already satisfied: protobuf!=4.21.0,!=4.21.1,!=4.21.2,!=4.21.3,!=4.21.4,!=4.21.5,<5.0.0dev,>=3.20.3 in /usr/local/lib/python3.10/dist-packages (from tensorflow) (3.20.3)\n",
            "Requirement already satisfied: setuptools in /usr/local/lib/python3.10/dist-packages (from tensorflow) (67.7.2)\n",
            "Requirement already satisfied: six>=1.12.0 in /usr/local/lib/python3.10/dist-packages (from tensorflow) (1.16.0)\n",
            "Requirement already satisfied: termcolor>=1.1.0 in /usr/local/lib/python3.10/dist-packages (from tensorflow) (2.3.0)\n",
            "Requirement already satisfied: typing-extensions>=3.6.6 in /usr/local/lib/python3.10/dist-packages (from tensorflow) (4.5.0)\n",
            "Requirement already satisfied: wrapt<1.15,>=1.11.0 in /usr/local/lib/python3.10/dist-packages (from tensorflow) (1.14.1)\n",
            "Requirement already satisfied: tensorflow-io-gcs-filesystem>=0.23.1 in /usr/local/lib/python3.10/dist-packages (from tensorflow) (0.34.0)\n",
            "Requirement already satisfied: grpcio<2.0,>=1.24.3 in /usr/local/lib/python3.10/dist-packages (from tensorflow) (1.59.0)\n",
            "Requirement already satisfied: tensorboard<2.15,>=2.14 in /usr/local/lib/python3.10/dist-packages (from tensorflow) (2.14.1)\n",
            "Requirement already satisfied: tensorflow-estimator<2.15,>=2.14.0 in /usr/local/lib/python3.10/dist-packages (from tensorflow) (2.14.0)\n",
            "Requirement already satisfied: keras<2.15,>=2.14.0 in /usr/local/lib/python3.10/dist-packages (from tensorflow) (2.14.0)\n",
            "Requirement already satisfied: wheel<1.0,>=0.23.0 in /usr/local/lib/python3.10/dist-packages (from astunparse>=1.6.0->tensorflow) (0.41.2)\n",
            "Requirement already satisfied: google-auth<3,>=1.6.3 in /usr/local/lib/python3.10/dist-packages (from tensorboard<2.15,>=2.14->tensorflow) (2.17.3)\n",
            "Requirement already satisfied: google-auth-oauthlib<1.1,>=0.5 in /usr/local/lib/python3.10/dist-packages (from tensorboard<2.15,>=2.14->tensorflow) (1.0.0)\n",
            "Requirement already satisfied: markdown>=2.6.8 in /usr/local/lib/python3.10/dist-packages (from tensorboard<2.15,>=2.14->tensorflow) (3.5)\n",
            "Requirement already satisfied: requests<3,>=2.21.0 in /usr/local/lib/python3.10/dist-packages (from tensorboard<2.15,>=2.14->tensorflow) (2.31.0)\n",
            "Requirement already satisfied: tensorboard-data-server<0.8.0,>=0.7.0 in /usr/local/lib/python3.10/dist-packages (from tensorboard<2.15,>=2.14->tensorflow) (0.7.1)\n",
            "Requirement already satisfied: werkzeug>=1.0.1 in /usr/local/lib/python3.10/dist-packages (from tensorboard<2.15,>=2.14->tensorflow) (3.0.0)\n",
            "Requirement already satisfied: cachetools<6.0,>=2.0.0 in /usr/local/lib/python3.10/dist-packages (from google-auth<3,>=1.6.3->tensorboard<2.15,>=2.14->tensorflow) (5.3.1)\n",
            "Requirement already satisfied: pyasn1-modules>=0.2.1 in /usr/local/lib/python3.10/dist-packages (from google-auth<3,>=1.6.3->tensorboard<2.15,>=2.14->tensorflow) (0.3.0)\n",
            "Requirement already satisfied: rsa<5,>=3.1.4 in /usr/local/lib/python3.10/dist-packages (from google-auth<3,>=1.6.3->tensorboard<2.15,>=2.14->tensorflow) (4.9)\n",
            "Requirement already satisfied: requests-oauthlib>=0.7.0 in /usr/local/lib/python3.10/dist-packages (from google-auth-oauthlib<1.1,>=0.5->tensorboard<2.15,>=2.14->tensorflow) (1.3.1)\n",
            "Requirement already satisfied: charset-normalizer<4,>=2 in /usr/local/lib/python3.10/dist-packages (from requests<3,>=2.21.0->tensorboard<2.15,>=2.14->tensorflow) (3.3.0)\n",
            "Requirement already satisfied: idna<4,>=2.5 in /usr/local/lib/python3.10/dist-packages (from requests<3,>=2.21.0->tensorboard<2.15,>=2.14->tensorflow) (3.4)\n",
            "Requirement already satisfied: urllib3<3,>=1.21.1 in /usr/local/lib/python3.10/dist-packages (from requests<3,>=2.21.0->tensorboard<2.15,>=2.14->tensorflow) (2.0.7)\n",
            "Requirement already satisfied: certifi>=2017.4.17 in /usr/local/lib/python3.10/dist-packages (from requests<3,>=2.21.0->tensorboard<2.15,>=2.14->tensorflow) (2023.7.22)\n",
            "Requirement already satisfied: MarkupSafe>=2.1.1 in /usr/local/lib/python3.10/dist-packages (from werkzeug>=1.0.1->tensorboard<2.15,>=2.14->tensorflow) (2.1.3)\n",
            "Requirement already satisfied: pyasn1<0.6.0,>=0.4.6 in /usr/local/lib/python3.10/dist-packages (from pyasn1-modules>=0.2.1->google-auth<3,>=1.6.3->tensorboard<2.15,>=2.14->tensorflow) (0.5.0)\n",
            "Requirement already satisfied: oauthlib>=3.0.0 in /usr/local/lib/python3.10/dist-packages (from requests-oauthlib>=0.7.0->google-auth-oauthlib<1.1,>=0.5->tensorboard<2.15,>=2.14->tensorflow) (3.2.2)\n"
          ]
        }
      ]
    },
    {
      "cell_type": "code",
      "source": [
        "import tensorflow as tf\n",
        "from tensorflow import keras\n",
        "from tensorflow.keras import layers\n",
        "\n",
        "# 모델 구성\n",
        "input_dim = len(train.drop('CI_HOUR',axis=1).columns)  # 입력 데이터의 차원\n",
        "\n",
        "encoding_dim = 2  # 잠재 표현의 차원\n",
        "input_layer = keras.Input(shape=(input_dim,))\n",
        "encoder = layers.Dense(encoding_dim, activation='relu')(input_layer)\n",
        "decoder = layers.Dense(input_dim, activation='sigmoid')(encoder)\n",
        "\n",
        "autoencoder = keras.Model(input_layer, decoder)\n",
        "\n",
        "# 모델 컴파일\n",
        "autoencoder.compile(optimizer='adam', loss='mean_absolute_error')\n",
        "\n",
        "# 데이터프레임을 Numpy 배열로 변환\n",
        "data_array = train.drop('CI_HOUR',axis=1).values\n",
        "\n",
        "# 모델 학습\n",
        "autoencoder.fit(data_array, data_array, epochs=50, batch_size=32)\n",
        "\n",
        "# 학습된 모델을 사용하여 잠재 표현 얻기\n",
        "encoder_model = keras.Model(input_layer, encoder)\n",
        "latent_representation = encoder_model.predict(data_array)\n",
        "\n",
        "print(\"잠재 표현의 형태:\", latent_representation.shape)"
      ],
      "metadata": {
        "colab": {
          "base_uri": "https://localhost:8080/"
        },
        "id": "bLKTAqIeZb9C",
        "outputId": "b8765f2e-4e48-47bb-85ee-f2ad1507e784"
      },
      "execution_count": null,
      "outputs": [
        {
          "output_type": "stream",
          "name": "stdout",
          "text": [
            "Epoch 1/50\n",
            "12249/12249 [==============================] - 51s 4ms/step - loss: 13017.7217\n",
            "Epoch 2/50\n",
            "12249/12249 [==============================] - 29s 2ms/step - loss: 13017.6846\n",
            "Epoch 3/50\n",
            "12249/12249 [==============================] - 29s 2ms/step - loss: 13017.7412\n",
            "Epoch 4/50\n",
            "12249/12249 [==============================] - 30s 2ms/step - loss: 13017.7334\n",
            "Epoch 5/50\n",
            "12249/12249 [==============================] - 29s 2ms/step - loss: 13017.7021\n",
            "Epoch 6/50\n",
            "12249/12249 [==============================] - 29s 2ms/step - loss: 13017.6807\n",
            "Epoch 7/50\n",
            "12249/12249 [==============================] - 32s 3ms/step - loss: 13017.7422\n",
            "Epoch 8/50\n",
            "12249/12249 [==============================] - 30s 2ms/step - loss: 13017.6670\n",
            "Epoch 9/50\n",
            "12249/12249 [==============================] - 29s 2ms/step - loss: 13017.7002\n",
            "Epoch 10/50\n",
            "12249/12249 [==============================] - 29s 2ms/step - loss: 13017.7373\n",
            "Epoch 11/50\n",
            "12249/12249 [==============================] - 30s 2ms/step - loss: 13017.7109\n",
            "Epoch 12/50\n",
            "12249/12249 [==============================] - 29s 2ms/step - loss: 13017.7510\n",
            "Epoch 13/50\n",
            "12249/12249 [==============================] - 29s 2ms/step - loss: 13017.7422\n",
            "Epoch 14/50\n",
            "12249/12249 [==============================] - 29s 2ms/step - loss: 13017.7041\n",
            "Epoch 15/50\n",
            "12249/12249 [==============================] - 30s 2ms/step - loss: 13017.7109\n",
            "Epoch 16/50\n",
            "12249/12249 [==============================] - 30s 2ms/step - loss: 13017.6963\n",
            "Epoch 17/50\n",
            "12249/12249 [==============================] - 29s 2ms/step - loss: 13017.7139\n",
            "Epoch 18/50\n",
            "12249/12249 [==============================] - 30s 2ms/step - loss: 13017.6992\n",
            "Epoch 19/50\n",
            "12249/12249 [==============================] - 29s 2ms/step - loss: 13017.7178\n",
            "Epoch 20/50\n",
            "12249/12249 [==============================] - 30s 2ms/step - loss: 13017.7080\n",
            "Epoch 21/50\n",
            "12249/12249 [==============================] - 30s 2ms/step - loss: 13017.7100\n",
            "Epoch 22/50\n",
            "12249/12249 [==============================] - 29s 2ms/step - loss: 13017.7100\n",
            "Epoch 23/50\n",
            "12249/12249 [==============================] - 29s 2ms/step - loss: 13017.7461\n",
            "Epoch 24/50\n",
            "12249/12249 [==============================] - 29s 2ms/step - loss: 13017.7178\n",
            "Epoch 25/50\n",
            "12249/12249 [==============================] - 29s 2ms/step - loss: 13017.7148\n",
            "Epoch 26/50\n",
            "12249/12249 [==============================] - 28s 2ms/step - loss: 13017.7061\n",
            "Epoch 27/50\n",
            "12249/12249 [==============================] - 30s 2ms/step - loss: 13017.6953\n",
            "Epoch 28/50\n",
            "12249/12249 [==============================] - 31s 3ms/step - loss: 13017.7119\n",
            "Epoch 29/50\n",
            "12249/12249 [==============================] - 30s 2ms/step - loss: 13017.6611\n",
            "Epoch 30/50\n",
            "12249/12249 [==============================] - 29s 2ms/step - loss: 13017.7178\n",
            "Epoch 31/50\n",
            "12249/12249 [==============================] - 31s 2ms/step - loss: 13017.7148\n",
            "Epoch 32/50\n",
            "12249/12249 [==============================] - 30s 2ms/step - loss: 13017.7021\n",
            "Epoch 33/50\n",
            "12249/12249 [==============================] - 29s 2ms/step - loss: 13017.6914\n",
            "Epoch 34/50\n",
            "12249/12249 [==============================] - 29s 2ms/step - loss: 13017.7061\n",
            "Epoch 35/50\n",
            "12249/12249 [==============================] - 29s 2ms/step - loss: 13017.7275\n",
            "Epoch 36/50\n",
            "12249/12249 [==============================] - 30s 2ms/step - loss: 13017.7188\n",
            "Epoch 37/50\n",
            "12249/12249 [==============================] - 29s 2ms/step - loss: 13017.6904\n",
            "Epoch 38/50\n",
            "12249/12249 [==============================] - 30s 2ms/step - loss: 13017.7109\n",
            "Epoch 39/50\n",
            "12249/12249 [==============================] - 30s 2ms/step - loss: 13017.7197\n",
            "Epoch 40/50\n",
            "12249/12249 [==============================] - 29s 2ms/step - loss: 13017.7383\n",
            "Epoch 41/50\n",
            "12249/12249 [==============================] - 29s 2ms/step - loss: 13017.6963\n",
            "Epoch 42/50\n",
            "12249/12249 [==============================] - 30s 2ms/step - loss: 13017.7021\n",
            "Epoch 43/50\n",
            "12249/12249 [==============================] - 30s 2ms/step - loss: 13017.7578\n",
            "Epoch 44/50\n",
            "12249/12249 [==============================] - 29s 2ms/step - loss: 13017.6836\n",
            "Epoch 45/50\n",
            "12249/12249 [==============================] - 30s 2ms/step - loss: 13017.7305\n",
            "Epoch 46/50\n",
            "12249/12249 [==============================] - 28s 2ms/step - loss: 13017.6865\n",
            "Epoch 47/50\n",
            "12249/12249 [==============================] - 30s 2ms/step - loss: 13017.7158\n",
            "Epoch 48/50\n",
            "12249/12249 [==============================] - 32s 3ms/step - loss: 13017.7041\n",
            "Epoch 49/50\n",
            "12249/12249 [==============================] - 30s 2ms/step - loss: 13017.7412\n",
            "Epoch 50/50\n",
            "12249/12249 [==============================] - 31s 2ms/step - loss: 13017.7178\n",
            "12249/12249 [==============================] - 21s 2ms/step\n",
            "잠재 표현의 형태: (391939, 2)\n"
          ]
        }
      ]
    },
    {
      "cell_type": "code",
      "source": [
        "# 잠재 표현을 데이터프레임에 추가\n",
        "latent_df = pd.DataFrame(latent_representation, columns=['LA1','LA2'])"
      ],
      "metadata": {
        "id": "3s59Y2kKb50t"
      },
      "execution_count": null,
      "outputs": []
    },
    {
      "cell_type": "code",
      "source": [
        "train = pd.concat([train, latent_df], axis=1)"
      ],
      "metadata": {
        "id": "DbPOqFQvcB7D"
      },
      "execution_count": null,
      "outputs": []
    },
    {
      "cell_type": "code",
      "source": [
        "# 학습된 모델을 사용하여 잠재 표현 얻기\n",
        "latent_2 = encoder_model.predict(test.values)\n",
        "latent_df2 = pd.DataFrame(latent_2, columns=['LA1','LA2'])\n",
        "test = pd.concat([test, latent_df2], axis=1)"
      ],
      "metadata": {
        "colab": {
          "base_uri": "https://localhost:8080/"
        },
        "id": "vhYGHWzfmcqn",
        "outputId": "4249d202-ad21-4d32-bd0b-9d4fcd7b16a9"
      },
      "execution_count": null,
      "outputs": [
        {
          "output_type": "stream",
          "name": "stdout",
          "text": [
            "6891/6891 [==============================] - 20s 3ms/step\n"
          ]
        }
      ]
    },
    {
      "cell_type": "code",
      "source": [
        "test.shape"
      ],
      "metadata": {
        "colab": {
          "base_uri": "https://localhost:8080/"
        },
        "id": "gaHCpys10pIV",
        "outputId": "bdae68dd-efab-4426-b433-e36d0adfd692"
      },
      "execution_count": null,
      "outputs": [
        {
          "output_type": "execute_result",
          "data": {
            "text/plain": [
              "(220491, 25)"
            ]
          },
          "metadata": {},
          "execution_count": 51
        }
      ]
    },
    {
      "cell_type": "markdown",
      "metadata": {
        "id": "b98tVbKZ-Ey3"
      },
      "source": [
        "### **6. 스케일링**"
      ]
    },
    {
      "cell_type": "code",
      "execution_count": null,
      "metadata": {
        "id": "iFS6R1lM9nhC"
      },
      "outputs": [],
      "source": [
        "from sklearn.preprocessing import StandardScaler\n",
        "\n",
        "scl = StandardScaler()\n",
        "\n",
        "train_scld = scl.fit_transform(train.drop('CI_HOUR', axis=1))\n",
        "train_scld = pd.DataFrame(train_scld, columns=train.drop('CI_HOUR', axis=1).columns)"
      ]
    },
    {
      "cell_type": "code",
      "source": [
        "test_scld = scl.transform(test)\n",
        "test_scld = pd.DataFrame(test_scld, columns=test.columns)"
      ],
      "metadata": {
        "id": "3OWgID52kEk1"
      },
      "execution_count": null,
      "outputs": []
    },
    {
      "cell_type": "markdown",
      "source": [
        "### **학습/검증 데이터셋 생성**"
      ],
      "metadata": {
        "id": "csZij4HB0aC3"
      }
    },
    {
      "cell_type": "code",
      "source": [
        "from sklearn.model_selection import train_test_split\n",
        "X = train_scld\n",
        "Y = train[\"CI_HOUR\"]\n",
        "x_train, x_valid, y_train, y_valid = train_test_split(X, Y, test_size=0.2, random_state=42)"
      ],
      "metadata": {
        "id": "8YGAFSNjvcRV"
      },
      "execution_count": null,
      "outputs": []
    },
    {
      "cell_type": "markdown",
      "metadata": {
        "id": "ETDa6HzNV7BJ"
      },
      "source": [
        "### **Catboost 모델링**"
      ]
    },
    {
      "cell_type": "code",
      "source": [
        "!pip install catboost"
      ],
      "metadata": {
        "colab": {
          "base_uri": "https://localhost:8080/"
        },
        "id": "lpajHFg6WSr8",
        "outputId": "5a61a372-660a-4b8d-a388-d968e2799e66"
      },
      "execution_count": null,
      "outputs": [
        {
          "output_type": "stream",
          "name": "stdout",
          "text": [
            "Collecting catboost\n",
            "  Downloading catboost-1.2.2-cp310-cp310-manylinux2014_x86_64.whl (98.7 MB)\n",
            "\u001b[2K     \u001b[90m━━━━━━━━━━━━━━━━━━━━━━━━━━━━━━━━━━━━━━━━\u001b[0m \u001b[32m98.7/98.7 MB\u001b[0m \u001b[31m10.0 MB/s\u001b[0m eta \u001b[36m0:00:00\u001b[0m\n",
            "\u001b[?25hRequirement already satisfied: graphviz in /usr/local/lib/python3.10/dist-packages (from catboost) (0.20.1)\n",
            "Requirement already satisfied: matplotlib in /usr/local/lib/python3.10/dist-packages (from catboost) (3.7.1)\n",
            "Requirement already satisfied: numpy>=1.16.0 in /usr/local/lib/python3.10/dist-packages (from catboost) (1.23.5)\n",
            "Requirement already satisfied: pandas>=0.24 in /usr/local/lib/python3.10/dist-packages (from catboost) (1.5.3)\n",
            "Requirement already satisfied: scipy in /usr/local/lib/python3.10/dist-packages (from catboost) (1.11.3)\n",
            "Requirement already satisfied: plotly in /usr/local/lib/python3.10/dist-packages (from catboost) (5.15.0)\n",
            "Requirement already satisfied: six in /usr/local/lib/python3.10/dist-packages (from catboost) (1.16.0)\n",
            "Requirement already satisfied: python-dateutil>=2.8.1 in /usr/local/lib/python3.10/dist-packages (from pandas>=0.24->catboost) (2.8.2)\n",
            "Requirement already satisfied: pytz>=2020.1 in /usr/local/lib/python3.10/dist-packages (from pandas>=0.24->catboost) (2023.3.post1)\n",
            "Requirement already satisfied: contourpy>=1.0.1 in /usr/local/lib/python3.10/dist-packages (from matplotlib->catboost) (1.1.1)\n",
            "Requirement already satisfied: cycler>=0.10 in /usr/local/lib/python3.10/dist-packages (from matplotlib->catboost) (0.12.1)\n",
            "Requirement already satisfied: fonttools>=4.22.0 in /usr/local/lib/python3.10/dist-packages (from matplotlib->catboost) (4.43.1)\n",
            "Requirement already satisfied: kiwisolver>=1.0.1 in /usr/local/lib/python3.10/dist-packages (from matplotlib->catboost) (1.4.5)\n",
            "Requirement already satisfied: packaging>=20.0 in /usr/local/lib/python3.10/dist-packages (from matplotlib->catboost) (23.2)\n",
            "Requirement already satisfied: pillow>=6.2.0 in /usr/local/lib/python3.10/dist-packages (from matplotlib->catboost) (9.4.0)\n",
            "Requirement already satisfied: pyparsing>=2.3.1 in /usr/local/lib/python3.10/dist-packages (from matplotlib->catboost) (3.1.1)\n",
            "Requirement already satisfied: tenacity>=6.2.0 in /usr/local/lib/python3.10/dist-packages (from plotly->catboost) (8.2.3)\n",
            "Installing collected packages: catboost\n",
            "Successfully installed catboost-1.2.2\n"
          ]
        }
      ]
    },
    {
      "cell_type": "code",
      "execution_count": null,
      "metadata": {
        "id": "qhArAzIDVrEX",
        "colab": {
          "base_uri": "https://localhost:8080/"
        },
        "outputId": "293e85a8-3eec-4d89-f240-0ce7418c9262"
      },
      "outputs": [
        {
          "output_type": "stream",
          "name": "stdout",
          "text": [
            "0:\tlearn: 60.8227174\ttest: 59.7591444\tbest: 59.7591444 (0)\ttotal: 175ms\tremaining: 58m 12s\n",
            "1000:\tlearn: 46.4171379\ttest: 45.6045622\tbest: 45.6045622 (1000)\ttotal: 1m 52s\tremaining: 35m 35s\n",
            "2000:\tlearn: 45.3428702\ttest: 44.6519475\tbest: 44.6519475 (2000)\ttotal: 3m 26s\tremaining: 30m 56s\n",
            "3000:\tlearn: 45.1065482\ttest: 44.4828876\tbest: 44.4823510 (2941)\ttotal: 4m 59s\tremaining: 28m 18s\n",
            "4000:\tlearn: 45.1029860\ttest: 44.4801686\tbest: 44.4801574 (3990)\ttotal: 6m 35s\tremaining: 26m 22s\n",
            "5000:\tlearn: 45.1012531\ttest: 44.4790336\tbest: 44.4790333 (4999)\ttotal: 8m 9s\tremaining: 24m 26s\n",
            "6000:\tlearn: 45.0983534\ttest: 44.4768215\tbest: 44.4768132 (5997)\ttotal: 9m 45s\tremaining: 22m 45s\n",
            "7000:\tlearn: 45.0936981\ttest: 44.4715044\tbest: 44.4715007 (6997)\ttotal: 11m 21s\tremaining: 21m 5s\n",
            "8000:\tlearn: 45.0812713\ttest: 44.4663204\tbest: 44.4663204 (8000)\ttotal: 12m 58s\tremaining: 19m 27s\n",
            "9000:\tlearn: 45.0780907\ttest: 44.4654182\tbest: 44.4654182 (9000)\ttotal: 14m 31s\tremaining: 17m 45s\n",
            "10000:\tlearn: 45.0495647\ttest: 44.4480416\tbest: 44.4480254 (9970)\ttotal: 16m 6s\tremaining: 16m 5s\n",
            "11000:\tlearn: 45.0478566\ttest: 44.4470671\tbest: 44.4470649 (10996)\ttotal: 17m 41s\tremaining: 14m 28s\n",
            "12000:\tlearn: 45.0467504\ttest: 44.4466328\tbest: 44.4465937 (11964)\ttotal: 19m 16s\tremaining: 12m 50s\n",
            "13000:\tlearn: 45.0452575\ttest: 44.4459957\tbest: 44.4458964 (12752)\ttotal: 20m 51s\tremaining: 11m 13s\n",
            "14000:\tlearn: 45.0439825\ttest: 44.4453901\tbest: 44.4453901 (14000)\ttotal: 22m 24s\tremaining: 9m 36s\n",
            "15000:\tlearn: 45.0424319\ttest: 44.4444828\tbest: 44.4444828 (15000)\ttotal: 23m 59s\tremaining: 7m 59s\n",
            "16000:\tlearn: 45.0411082\ttest: 44.4439600\tbest: 44.4439265 (15919)\ttotal: 25m 35s\tremaining: 6m 23s\n",
            "17000:\tlearn: 45.0400779\ttest: 44.4437299\tbest: 44.4437154 (16954)\ttotal: 27m 8s\tremaining: 4m 47s\n",
            "18000:\tlearn: 45.0391857\ttest: 44.4435196\tbest: 44.4434953 (17919)\ttotal: 28m 44s\tremaining: 3m 11s\n",
            "19000:\tlearn: 45.0358863\ttest: 44.4421204\tbest: 44.4420621 (18914)\ttotal: 30m 19s\tremaining: 1m 35s\n",
            "19999:\tlearn: 45.0333704\ttest: 44.4416082\tbest: 44.4415623 (19882)\ttotal: 31m 53s\tremaining: 0us\n",
            "\n",
            "bestTest = 44.44156234\n",
            "bestIteration = 19882\n",
            "\n",
            "Shrink model to first 19883 iterations.\n"
          ]
        },
        {
          "output_type": "execute_result",
          "data": {
            "text/plain": [
              "<catboost.core.CatBoostRegressor at 0x79f1a6b99600>"
            ]
          },
          "metadata": {},
          "execution_count": 56
        }
      ],
      "source": [
        "from catboost import CatBoostRegressor\n",
        "\n",
        "cbc = CatBoostRegressor(verbose=1000, iterations=20000, objective='MAE', use_best_model=True)\n",
        "cbc.fit(x_train, y_train, eval_set=(x_valid, y_valid))"
      ]
    },
    {
      "cell_type": "code",
      "source": [
        "importances = cbc.get_feature_importance(type='PredictionValuesChange')\n",
        "feature_importances = pd.Series(importances, index=X.columns).sort_values()"
      ],
      "metadata": {
        "id": "YoWOCfVOZwJL"
      },
      "execution_count": null,
      "outputs": []
    },
    {
      "cell_type": "code",
      "source": [
        "feature_importances"
      ],
      "metadata": {
        "colab": {
          "base_uri": "https://localhost:8080/"
        },
        "id": "1CvJv49UjUx8",
        "outputId": "641bf937-85c6-409a-9f0a-1f446cf01453"
      },
      "execution_count": null,
      "outputs": [
        {
          "output_type": "execute_result",
          "data": {
            "text/plain": [
              "LA2                    0.000000\n",
              "MINUTE                 0.038952\n",
              "ATA_LT                 0.138841\n",
              "DRAUGHT                0.152143\n",
              "DEPTH                  0.167039\n",
              "MONTH                  0.172575\n",
              "HOUR                   0.759179\n",
              "SIZE_STD               0.866435\n",
              "SIZE_MEAN              1.739093\n",
              "YEAR                   1.969992\n",
              "ARI_PO                 2.337443\n",
              "DIST_MEAN              2.376453\n",
              "BREADTH                2.567632\n",
              "LENGTH_MEAN            2.638245\n",
              "DEADWEIGHT             3.455965\n",
              "GT                     3.494014\n",
              "WEEKDAY                4.180134\n",
              "ARI_CO                 4.421164\n",
              "DIST_STD               4.661720\n",
              "SHIP_TYPE_CATEGORY     5.044085\n",
              "LENGTH_STD             5.116776\n",
              "PORT_SIZE              7.478180\n",
              "LENGTH                 7.954822\n",
              "LA1                    9.617012\n",
              "DIST                  28.652104\n",
              "dtype: float64"
            ]
          },
          "metadata": {},
          "execution_count": 58
        }
      ]
    },
    {
      "cell_type": "code",
      "execution_count": null,
      "metadata": {
        "id": "BIep0zKhV8vN",
        "colab": {
          "base_uri": "https://localhost:8080/"
        },
        "outputId": "dec89aac-d1a0-4027-cb28-8646f3aa0115"
      },
      "outputs": [
        {
          "output_type": "execute_result",
          "data": {
            "text/plain": [
              "44.44156325524698"
            ]
          },
          "metadata": {},
          "execution_count": 59
        }
      ],
      "source": [
        "from sklearn.metrics import mean_absolute_error\n",
        "\n",
        "pred = cbc.predict(x_valid)\n",
        "mean_absolute_error(pred, y_valid)"
      ]
    },
    {
      "cell_type": "code",
      "source": [
        "# test 데이터셋에 대한 예측\n",
        "final = cbc.predict(test_scld)"
      ],
      "metadata": {
        "id": "gS5GowGAuhpE"
      },
      "execution_count": null,
      "outputs": []
    },
    {
      "cell_type": "code",
      "source": [
        "final.shape"
      ],
      "metadata": {
        "colab": {
          "base_uri": "https://localhost:8080/"
        },
        "id": "frvdZ_HO0gRI",
        "outputId": "e19a84c8-f5b7-4add-d728-bb0990bc1a7d"
      },
      "execution_count": null,
      "outputs": [
        {
          "output_type": "execute_result",
          "data": {
            "text/plain": [
              "(220491,)"
            ]
          },
          "metadata": {},
          "execution_count": 61
        }
      ]
    },
    {
      "cell_type": "markdown",
      "metadata": {
        "id": "hAK8Qct72l9G"
      },
      "source": [
        "## **| 제출 파일 생성 및 저장**"
      ]
    },
    {
      "cell_type": "code",
      "execution_count": null,
      "metadata": {
        "id": "0ZWc2WGAWLXS"
      },
      "outputs": [],
      "source": [
        "submit = pd.read_csv('/content/drive/MyDrive/HD현대 AI Challenge/Data/sample_submission.csv')\n",
        "submit['CI_HOUR'] = final"
      ]
    },
    {
      "cell_type": "code",
      "execution_count": null,
      "metadata": {
        "id": "0EicY0D42pIy"
      },
      "outputs": [],
      "source": [
        "submit.to_csv('YOUN/sub_FE1025(4).csv', index=False) # 파일 이름 수정"
      ]
    }
  ],
  "metadata": {
    "colab": {
      "provenance": [],
      "include_colab_link": true
    },
    "kernelspec": {
      "display_name": "Python 3",
      "name": "python3"
    },
    "language_info": {
      "name": "python"
    }
  },
  "nbformat": 4,
  "nbformat_minor": 0
}