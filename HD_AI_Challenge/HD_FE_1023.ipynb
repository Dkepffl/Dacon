{
  "cells": [
    {
      "cell_type": "markdown",
      "metadata": {
        "id": "view-in-github",
        "colab_type": "text"
      },
      "source": [
        "<a href=\"https://colab.research.google.com/github/Dkepffl/Dacon/blob/main/HD_AI_Challenge/HD_FE_1023.ipynb\" target=\"_parent\"><img src=\"https://colab.research.google.com/assets/colab-badge.svg\" alt=\"Open In Colab\"/></a>"
      ]
    },
    {
      "cell_type": "markdown",
      "metadata": {
        "id": "CHj4P9i5s3Dx"
      },
      "source": [
        "# **HD 현대 AI Chalenge**\n",
        "- 구글 드라이브 어마운트를 통해 데이터 로드\n",
        "- 10.22 기준 리더보드 최저 점수(45.6250669998) 코드\n"
      ]
    },
    {
      "cell_type": "markdown",
      "metadata": {
        "id": "LVTp6BEmutI-"
      },
      "source": [
        "## **| 구글 드라이브 어마운트**"
      ]
    },
    {
      "cell_type": "code",
      "execution_count": null,
      "metadata": {
        "colab": {
          "base_uri": "https://localhost:8080/"
        },
        "id": "xZCT1JmvUANR",
        "outputId": "3d09a16f-09c6-45ee-a4d7-ab1bc6dddbdb"
      },
      "outputs": [
        {
          "output_type": "stream",
          "name": "stdout",
          "text": [
            "Mounted at /content/drive\n"
          ]
        }
      ],
      "source": [
        "from google.colab import drive\n",
        "drive.mount('/content/drive')"
      ]
    },
    {
      "cell_type": "markdown",
      "metadata": {
        "id": "xlaAw-VNuvR6"
      },
      "source": [
        "## **| 필요한 라이브러리 로드**"
      ]
    },
    {
      "cell_type": "code",
      "execution_count": null,
      "metadata": {
        "id": "9-ZknC5OTJ7w"
      },
      "outputs": [],
      "source": [
        "# import libraries\n",
        "import numpy as np\n",
        "import pandas as pd\n",
        "\n",
        "import seaborn as sns\n",
        "import matplotlib.pyplot as plt\n",
        "\n",
        "import os"
      ]
    },
    {
      "cell_type": "markdown",
      "metadata": {
        "id": "7ZlSE5r9uxBk"
      },
      "source": [
        "## **| 작업 폴더 변경 및 데이터 로드**"
      ]
    },
    {
      "cell_type": "code",
      "execution_count": null,
      "metadata": {
        "colab": {
          "base_uri": "https://localhost:8080/",
          "height": 35
        },
        "id": "Usj-__veTLYP",
        "outputId": "2036e47f-21f1-4f25-9625-28e8126e654c"
      },
      "outputs": [
        {
          "output_type": "execute_result",
          "data": {
            "text/plain": [
              "'/content/drive/MyDrive/HD현대 AI Challenge'"
            ],
            "application/vnd.google.colaboratory.intrinsic+json": {
              "type": "string"
            }
          },
          "metadata": {},
          "execution_count": 3
        }
      ],
      "source": [
        "os.chdir(\"/content/drive/MyDrive/HD현대 AI Challenge\") # 각자 드라이브에 맞춰 변경\n",
        "os.getcwd()"
      ]
    },
    {
      "cell_type": "code",
      "execution_count": null,
      "metadata": {
        "id": "9zCAgA4kUazx"
      },
      "outputs": [],
      "source": [
        "train = pd.read_csv('Data/train.csv').drop('SAMPLE_ID', axis=1)\n",
        "test = pd.read_csv('Data/test.csv').drop('SAMPLE_ID', axis=1)"
      ]
    },
    {
      "cell_type": "code",
      "execution_count": null,
      "metadata": {
        "id": "NFjSyTGtvw-2"
      },
      "outputs": [],
      "source": [
        "# 원본 데이터셋 별도 저장\n",
        "train_proto = train.copy()\n",
        "test_proto = test.copy()"
      ]
    },
    {
      "cell_type": "markdown",
      "metadata": {
        "id": "xSUUjNuDU4fT"
      },
      "source": [
        "## **| 데이터 전처리**"
      ]
    },
    {
      "cell_type": "markdown",
      "metadata": {
        "id": "qPmcy5YwU9Pq"
      },
      "source": [
        "### **1. ATA 변수 처리**"
      ]
    },
    {
      "cell_type": "code",
      "execution_count": null,
      "metadata": {
        "id": "va5YyDf-EtFd"
      },
      "outputs": [],
      "source": [
        "from datetime import datetime\n",
        "\n",
        "# datetime 컬럼 처리\n",
        "train['ATA'] = pd.to_datetime(train['ATA'])\n",
        "test['ATA'] = pd.to_datetime(test['ATA'])\n",
        "\n",
        "# datetime을 여러 파생 변수로 변환\n",
        "for df in [train, test]:\n",
        "  df['YEAR'] = df['ATA'].dt.year\n",
        "  df['MONTH'] = df['ATA'].dt.month\n",
        "  df['DAY'] = df['ATA'].dt.day\n",
        "  df['HOUR'] = df['ATA'].dt.hour\n",
        "  df['MINUTE'] = df['ATA'].dt.minute\n",
        "  df['WEEKDAY'] = df['ATA'].dt.weekday"
      ]
    },
    {
      "cell_type": "code",
      "execution_count": null,
      "metadata": {
        "id": "IcekLfxpJpgJ"
      },
      "outputs": [],
      "source": [
        "train.drop('ATA', axis=1, inplace=True)\n",
        "test.drop('ATA', axis=1, inplace=True)"
      ]
    },
    {
      "cell_type": "markdown",
      "metadata": {
        "id": "D82J14cfVDLJ"
      },
      "source": [
        "### **2. 파생 변수 추가**"
      ]
    },
    {
      "cell_type": "markdown",
      "metadata": {
        "id": "f9IEPomnvxY0"
      },
      "source": [
        "#### **선박 유형 별 선박 크기 관련 컬럼 추가**"
      ]
    },
    {
      "cell_type": "code",
      "execution_count": null,
      "metadata": {
        "id": "hL5ZrJvevg1C"
      },
      "outputs": [],
      "source": [
        "temp_train=train.copy()\n",
        "temp_test=test.copy()\n",
        "\n",
        "temp_train['SIZE']= temp_train['GT']+temp_train['BREADTH']+temp_train['DEADWEIGHT']+temp_train['DEPTH']+temp_train['DRAUGHT']+temp_train['LENGTH']\n",
        "temp_test['SIZE']= temp_test['GT']+temp_test['BREADTH']+temp_test['DEADWEIGHT']+temp_test['DEPTH']+temp_test['DRAUGHT']+temp_test['LENGTH']"
      ]
    },
    {
      "cell_type": "code",
      "execution_count": null,
      "metadata": {
        "id": "oXHfKscqxnXA"
      },
      "outputs": [],
      "source": [
        "ship_type1=train['SHIP_TYPE_CATEGORY'].unique().tolist()\n",
        "ship_type2=test['SHIP_TYPE_CATEGORY'].unique().tolist()"
      ]
    },
    {
      "cell_type": "code",
      "execution_count": null,
      "metadata": {
        "id": "EDPQ6-PexvRw"
      },
      "outputs": [],
      "source": [
        "SHIP_dist_train=temp_train.groupby('SHIP_TYPE_CATEGORY')['SIZE'].agg(['mean','std']).reset_index()\n",
        "SHIP_dist_test=temp_test.groupby('SHIP_TYPE_CATEGORY')['SIZE'].agg(['mean','std']).reset_index()"
      ]
    },
    {
      "cell_type": "code",
      "execution_count": null,
      "metadata": {
        "id": "cinONfkex7zg"
      },
      "outputs": [],
      "source": [
        "for ship in ship_type1:\n",
        "  train.loc[train['SHIP_TYPE_CATEGORY']==ship,'SIZE_MEAN'] = SHIP_dist_train.loc[SHIP_dist_train['SHIP_TYPE_CATEGORY']==ship,'mean'].values[0]\n",
        "  train.loc[train['SHIP_TYPE_CATEGORY']==ship,'SIZE_STD'] = SHIP_dist_train.loc[SHIP_dist_train['SHIP_TYPE_CATEGORY']==ship,'std'].values[0]\n",
        "\n",
        "for ship in ship_type2:\n",
        "  test.loc[test['SHIP_TYPE_CATEGORY']==ship,'SIZE_MEAN'] = SHIP_dist_test.loc[SHIP_dist_test['SHIP_TYPE_CATEGORY']==ship,'mean'].values[0]\n",
        "  test.loc[test['SHIP_TYPE_CATEGORY']==ship,'SIZE_STD'] = SHIP_dist_test.loc[SHIP_dist_test['SHIP_TYPE_CATEGORY']==ship,'std'].values[0]"
      ]
    },
    {
      "cell_type": "markdown",
      "metadata": {
        "id": "OgFi_xJpTV05"
      },
      "source": [
        "#### **ATA_PO 별 DIST 통계량**"
      ]
    },
    {
      "cell_type": "code",
      "execution_count": null,
      "metadata": {
        "id": "vvPPr7MyvyPX"
      },
      "outputs": [],
      "source": [
        "port_list1=train['ARI_PO'].unique().tolist()\n",
        "port_list2=test['ARI_PO'].unique().tolist()"
      ]
    },
    {
      "cell_type": "code",
      "execution_count": null,
      "metadata": {
        "id": "6T9AvNtbk9px"
      },
      "outputs": [],
      "source": [
        "DIST_dist_train=train.groupby('ARI_PO')['DIST'].agg(['mean','std']).reset_index()\n",
        "DIST_dist_test=train.groupby('ARI_PO')['DIST'].agg(['mean','std']).reset_index()"
      ]
    },
    {
      "cell_type": "code",
      "execution_count": null,
      "metadata": {
        "id": "J0Dxp3OMZYXr"
      },
      "outputs": [],
      "source": [
        "for port in port_list1:\n",
        "  train.loc[train['ARI_PO']==port,'DIST_MEAN'] = DIST_dist_train.loc[DIST_dist_train['ARI_PO']==port,'mean'].values[0]\n",
        "  train.loc[train['ARI_PO']==port,'DIST_STD'] = DIST_dist_train.loc[DIST_dist_train['ARI_PO']==port,'std'].values[0]\n",
        "\n",
        "for port in port_list2:\n",
        "  test.loc[test['ARI_PO']==port,'DIST_MEAN'] = DIST_dist_test.loc[DIST_dist_test['ARI_PO']==port,'mean'].values[0]\n",
        "  test.loc[test['ARI_PO']==port,'DIST_STD'] = DIST_dist_test.loc[DIST_dist_test['ARI_PO']==port,'std'].values[0]"
      ]
    },
    {
      "cell_type": "markdown",
      "metadata": {
        "id": "VSgNs0MxbOI4"
      },
      "source": [
        "#### **ATA_CO 별 LENGTH 통계량**"
      ]
    },
    {
      "cell_type": "code",
      "execution_count": null,
      "metadata": {
        "id": "hHR5gYM-bOI5"
      },
      "outputs": [],
      "source": [
        "co_list1=train['ARI_CO'].unique().tolist()\n",
        "co_list2=test['ARI_CO'].unique().tolist()"
      ]
    },
    {
      "cell_type": "code",
      "execution_count": null,
      "metadata": {
        "id": "-ZxgobADbOI5"
      },
      "outputs": [],
      "source": [
        "LENGTH_length_train=train.groupby('ARI_CO')['LENGTH'].agg(['mean','std']).reset_index()\n",
        "LENGTH_length_test=train.groupby('ARI_CO')['LENGTH'].agg(['mean','std']).reset_index()"
      ]
    },
    {
      "cell_type": "code",
      "execution_count": null,
      "metadata": {
        "id": "Z7Xrdi-SbOI5"
      },
      "outputs": [],
      "source": [
        "for co in co_list1:\n",
        "  train.loc[train['ARI_CO']==co,'LENGTH_MEAN'] = LENGTH_length_train.loc[LENGTH_length_train['ARI_CO']==co,'mean'].values[0]\n",
        "  train.loc[train['ARI_CO']==co,'LENGTH_STD'] = LENGTH_length_train.loc[LENGTH_length_train['ARI_CO']==co,'std'].values[0]\n",
        "\n",
        "for co in co_list2:\n",
        "  test.loc[test['ARI_CO']==co,'LENGTH_MEAN'] = LENGTH_length_test.loc[LENGTH_length_test['ARI_CO']==co,'mean'].values[0]\n",
        "  test.loc[test['ARI_CO']==co,'LENGTH_STD'] = LENGTH_length_test.loc[LENGTH_length_test['ARI_CO']==co,'std'].values[0]"
      ]
    },
    {
      "cell_type": "markdown",
      "source": [
        "#### **연도 별 DIST 통계량**"
      ],
      "metadata": {
        "id": "KpTfb-KInMfS"
      }
    },
    {
      "cell_type": "code",
      "execution_count": null,
      "metadata": {
        "id": "oPAv_CuFnSG6"
      },
      "outputs": [],
      "source": [
        "YEAR_train=train.groupby('YEAR')['DIST'].agg(['mean','std']).reset_index()\n",
        "YEAR_test=train.groupby('YEAR')['DIST'].agg(['mean','std']).reset_index()"
      ]
    },
    {
      "cell_type": "code",
      "execution_count": null,
      "metadata": {
        "id": "bFZznc8_nSHC"
      },
      "outputs": [],
      "source": [
        "for year in range(2014, 2024, 1):\n",
        "  train.loc[train['YEAR']==year,'YEAR_MEAN'] = YEAR_train.loc[YEAR_train['YEAR']==year,'mean'].values[0]\n",
        "  train.loc[train['YEAR']==year,'YEAR_STD'] = YEAR_train.loc[YEAR_train['YEAR']==year,'std'].values[0]\n",
        "\n",
        "for year in range(2014, 2024, 1):\n",
        "  test.loc[test['YEAR']==year,'YEAR_MEAN'] = YEAR_test.loc[YEAR_test['YEAR']==year,'mean'].values[0]\n",
        "  test.loc[test['YEAR']==year,'YEAR_STD'] = YEAR_test.loc[YEAR_test['YEAR']==year,'std'].values[0]"
      ]
    },
    {
      "cell_type": "markdown",
      "source": [
        "#### **ARI_CO별 Container 비율**"
      ],
      "metadata": {
        "id": "NK1sSOxmu_Ml"
      }
    },
    {
      "cell_type": "code",
      "source": [
        "temp1 = (train.groupby(['ARI_CO','SHIP_TYPE_CATEGORY'])['ARI_PO'].count() / train.groupby(['ARI_CO'])['ARI_PO'].count()).reset_index()\n",
        "temp2 = (test.groupby(['ARI_CO','SHIP_TYPE_CATEGORY'])['ARI_PO'].count() / test.groupby(['ARI_CO'])['ARI_PO'].count()).reset_index()"
      ],
      "metadata": {
        "id": "NOVqDm0Lx-yW"
      },
      "execution_count": null,
      "outputs": []
    },
    {
      "cell_type": "code",
      "source": [
        "country1=train['ARI_CO'].unique().tolist()\n",
        "country2=test['ARI_CO'].unique().tolist()"
      ],
      "metadata": {
        "id": "j3C6-5W0yqCH"
      },
      "execution_count": null,
      "outputs": []
    },
    {
      "cell_type": "code",
      "source": [
        "for col in country1:\n",
        "  if temp1.loc[(temp1['ARI_CO']==col)&(temp1['SHIP_TYPE_CATEGORY']=='Container')].shape == (0,3):\n",
        "    train.loc[train['ARI_CO']==col,'PORTION_CO']=0\n",
        "  else:\n",
        "    train.loc[train['ARI_CO']==col,'PORTION_CO']=1-temp1.loc[(temp1['ARI_CO']==col)&(temp1['SHIP_TYPE_CATEGORY']=='Container')].values[0,2]\n",
        "\n",
        "for col in country2:\n",
        "  if temp2.loc[(temp2['ARI_CO']==col)&(temp2['SHIP_TYPE_CATEGORY']=='Container')].shape == (0,3):\n",
        "    test.loc[test['ARI_CO']==col,'PORTION_CO']=0\n",
        "  else:\n",
        "    test.loc[test['ARI_CO']==col,'PORTION_CO']=1-temp2.loc[(temp2['ARI_CO']==col)&(temp2['SHIP_TYPE_CATEGORY']=='Container')].values[0,2]"
      ],
      "metadata": {
        "id": "5ImaUpecydOO"
      },
      "execution_count": null,
      "outputs": []
    },
    {
      "cell_type": "markdown",
      "source": [
        "#### **평일/주말 컬럼**"
      ],
      "metadata": {
        "id": "_kZ5uZ8z-J-j"
      }
    },
    {
      "cell_type": "code",
      "source": [
        "train['HOLIDAY']=train['WEEKDAY'].apply(lambda x: 1 if x in [5,6] else 0)\n",
        "test['HOLIDAY']=test['WEEKDAY'].apply(lambda x: 1 if x in [5,6] else 0)"
      ],
      "metadata": {
        "id": "PQQyebnb-Mn3"
      },
      "execution_count": null,
      "outputs": []
    },
    {
      "cell_type": "markdown",
      "source": [
        "#### **피크타임 컬럼**"
      ],
      "metadata": {
        "id": "dUYBr6NQ-r85"
      }
    },
    {
      "cell_type": "code",
      "source": [
        "train['PEAK_TIME'] = train['HOUR'].apply(lambda x: 1 if x in range(14,21) else 0)\n",
        "test['PEAK_TIME'] = test['HOUR'].apply(lambda x: 1 if x in range(14,21) else 0)"
      ],
      "metadata": {
        "id": "dHTcJA4o-xgY"
      },
      "execution_count": null,
      "outputs": []
    },
    {
      "cell_type": "markdown",
      "metadata": {
        "id": "rRCnwXoZVQ8r"
      },
      "source": [
        "### **3. 카테고리 변수 라벨 인코딩**"
      ]
    },
    {
      "cell_type": "code",
      "execution_count": null,
      "metadata": {
        "colab": {
          "base_uri": "https://localhost:8080/"
        },
        "id": "k1tyqoRuvZZd",
        "outputId": "7eb5dc0d-9f3c-4c3b-9286-3a1f5fc9b785"
      },
      "outputs": [
        {
          "output_type": "stream",
          "name": "stderr",
          "text": [
            "Encoding features: 100%|██████████| 6/6 [00:01<00:00,  3.23it/s]\n"
          ]
        }
      ],
      "source": [
        "from sklearn.preprocessing import LabelEncoder\n",
        "import bisect\n",
        "from tqdm import tqdm\n",
        "\n",
        "categorical_features = ['ARI_CO','ARI_PO', 'SHIP_TYPE_CATEGORY', 'ID', 'SHIPMANAGER','FLAG']\n",
        "encoders = {}\n",
        "\n",
        "for feature in tqdm(categorical_features, desc=\"Encoding features\"):\n",
        "  le = LabelEncoder()\n",
        "  train[feature] = le.fit_transform(train[feature].astype(str))\n",
        "  le_classes_set = set(le.classes_)\n",
        "  test[feature] = test[feature].map(lambda s: '-1' if s not in le_classes_set else s)\n",
        "  le_classes = le.classes_.tolist()\n",
        "  bisect.insort_left(le_classes, '-1')\n",
        "  le.classes_ = np.array(le_classes)\n",
        "  test[feature] = le.transform(test[feature].astype(str))\n",
        "  encoders[feature] = le"
      ]
    },
    {
      "cell_type": "markdown",
      "metadata": {
        "id": "XzXxdPjaVn3d"
      },
      "source": [
        "### **4. 미사용 컬럼 제거**"
      ]
    },
    {
      "cell_type": "code",
      "execution_count": null,
      "metadata": {
        "id": "nvBxesr647Xh",
        "colab": {
          "base_uri": "https://localhost:8080/"
        },
        "outputId": "1b878245-4141-447c-ab34-ae70b5f05643"
      },
      "outputs": [
        {
          "output_type": "execute_result",
          "data": {
            "text/plain": [
              "CI_HOUR               1.000000\n",
              "DIST                  0.189145\n",
              "WEEKDAY               0.111632\n",
              "SHIP_TYPE_CATEGORY    0.087101\n",
              "LENGTH_MEAN           0.084063\n",
              "DEADWEIGHT            0.077954\n",
              "GT                    0.059661\n",
              "DEPTH                 0.051760\n",
              "BREADTH               0.043711\n",
              "DRAUGHT               0.040309\n",
              "SIZE_MEAN             0.040032\n",
              "AIR_TEMPERATURE       0.035827\n",
              "LENGTH                0.035334\n",
              "DIST_STD              0.028731\n",
              "YEAR                  0.021253\n",
              "FLAG                  0.021199\n",
              "PORT_SIZE             0.020635\n",
              "PEAK_TIME             0.018626\n",
              "V_WIND                0.017415\n",
              "BN                    0.016283\n",
              "SIZE_STD              0.013462\n",
              "U_WIND                0.012193\n",
              "LENGTH_STD            0.008949\n",
              "MINUTE                0.008505\n",
              "ID                    0.008185\n",
              "DIST_MEAN             0.007737\n",
              "HOUR                  0.007474\n",
              "ARI_CO                0.005224\n",
              "MONTH                 0.004286\n",
              "SHIPMANAGER           0.003544\n",
              "BUILT                 0.001756\n",
              "ARI_PO                0.000459\n",
              "DAY                   0.000370\n",
              "ATA_LT                0.000090\n",
              "Name: CI_HOUR, dtype: float64"
            ]
          },
          "metadata": {},
          "execution_count": 30
        }
      ],
      "source": [
        "co_matrix=train.corr()\n",
        "correlations_with_x = co_matrix['CI_HOUR']\n",
        "correlations_with_x.abs().sort_values(ascending=False)"
      ]
    },
    {
      "cell_type": "code",
      "execution_count": null,
      "metadata": {
        "id": "ZxHScJMT5gcp"
      },
      "outputs": [],
      "source": [
        "train.drop(columns=['ID', 'SHIPMANAGER', 'FLAG', 'U_WIND', 'V_WIND', 'AIR_TEMPERATURE', 'BUILT','BN','DAY'], inplace=True)\n",
        "test.drop(columns=['ID', 'SHIPMANAGER', 'FLAG', 'U_WIND', 'V_WIND', 'AIR_TEMPERATURE', 'BUILT','BN','DAY'], inplace=True)"
      ]
    },
    {
      "cell_type": "markdown",
      "metadata": {
        "id": "Q_yZUmkpdEfo"
      },
      "source": [
        "### **5. 결측치 처리**"
      ]
    },
    {
      "cell_type": "code",
      "execution_count": null,
      "metadata": {
        "id": "SCf3eH_9dpYn"
      },
      "outputs": [],
      "source": [
        "train = train.fillna(-1)\n",
        "test = test.fillna(-1)"
      ]
    },
    {
      "cell_type": "markdown",
      "metadata": {
        "id": "b98tVbKZ-Ey3"
      },
      "source": [
        "### **6. 스케일링**"
      ]
    },
    {
      "cell_type": "code",
      "execution_count": null,
      "metadata": {
        "id": "iFS6R1lM9nhC"
      },
      "outputs": [],
      "source": [
        "from sklearn.preprocessing import StandardScaler\n",
        "\n",
        "scl = StandardScaler()\n",
        "\n",
        "train_scld = scl.fit_transform(train.drop('CI_HOUR', axis=1))\n",
        "train_scld = pd.DataFrame(train_scld, columns=train.drop('CI_HOUR', axis=1).columns)\n",
        "\n",
        "test_scld = scl.transform(test)\n",
        "test_scld = pd.DataFrame(test_scld, columns=test.columns)"
      ]
    },
    {
      "cell_type": "markdown",
      "source": [
        "### **학습/검증 데이터셋 생성**"
      ],
      "metadata": {
        "id": "csZij4HB0aC3"
      }
    },
    {
      "cell_type": "code",
      "source": [
        "from sklearn.model_selection import train_test_split\n",
        "X = train_scld\n",
        "Y = train[\"CI_HOUR\"]\n",
        "x_train, x_valid, y_train, y_valid = train_test_split(X, Y, test_size=0.2, random_state=42)"
      ],
      "metadata": {
        "id": "8YGAFSNjvcRV"
      },
      "execution_count": null,
      "outputs": []
    },
    {
      "cell_type": "markdown",
      "metadata": {
        "id": "ETDa6HzNV7BJ"
      },
      "source": [
        "### **Catboost 모델링**"
      ]
    },
    {
      "cell_type": "code",
      "source": [
        "!pip install catboost"
      ],
      "metadata": {
        "colab": {
          "base_uri": "https://localhost:8080/"
        },
        "id": "lpajHFg6WSr8",
        "outputId": "b6bb4909-93db-474d-ff64-4bdb3c4752ba"
      },
      "execution_count": null,
      "outputs": [
        {
          "output_type": "stream",
          "name": "stdout",
          "text": [
            "Collecting catboost\n",
            "  Downloading catboost-1.2.2-cp310-cp310-manylinux2014_x86_64.whl (98.7 MB)\n",
            "\u001b[2K     \u001b[90m━━━━━━━━━━━━━━━━━━━━━━━━━━━━━━━━━━━━━━━━\u001b[0m \u001b[32m98.7/98.7 MB\u001b[0m \u001b[31m9.5 MB/s\u001b[0m eta \u001b[36m0:00:00\u001b[0m\n",
            "\u001b[?25hRequirement already satisfied: graphviz in /usr/local/lib/python3.10/dist-packages (from catboost) (0.20.1)\n",
            "Requirement already satisfied: matplotlib in /usr/local/lib/python3.10/dist-packages (from catboost) (3.7.1)\n",
            "Requirement already satisfied: numpy>=1.16.0 in /usr/local/lib/python3.10/dist-packages (from catboost) (1.23.5)\n",
            "Requirement already satisfied: pandas>=0.24 in /usr/local/lib/python3.10/dist-packages (from catboost) (1.5.3)\n",
            "Requirement already satisfied: scipy in /usr/local/lib/python3.10/dist-packages (from catboost) (1.11.3)\n",
            "Requirement already satisfied: plotly in /usr/local/lib/python3.10/dist-packages (from catboost) (5.15.0)\n",
            "Requirement already satisfied: six in /usr/local/lib/python3.10/dist-packages (from catboost) (1.16.0)\n",
            "Requirement already satisfied: python-dateutil>=2.8.1 in /usr/local/lib/python3.10/dist-packages (from pandas>=0.24->catboost) (2.8.2)\n",
            "Requirement already satisfied: pytz>=2020.1 in /usr/local/lib/python3.10/dist-packages (from pandas>=0.24->catboost) (2023.3.post1)\n",
            "Requirement already satisfied: contourpy>=1.0.1 in /usr/local/lib/python3.10/dist-packages (from matplotlib->catboost) (1.1.1)\n",
            "Requirement already satisfied: cycler>=0.10 in /usr/local/lib/python3.10/dist-packages (from matplotlib->catboost) (0.12.1)\n",
            "Requirement already satisfied: fonttools>=4.22.0 in /usr/local/lib/python3.10/dist-packages (from matplotlib->catboost) (4.43.1)\n",
            "Requirement already satisfied: kiwisolver>=1.0.1 in /usr/local/lib/python3.10/dist-packages (from matplotlib->catboost) (1.4.5)\n",
            "Requirement already satisfied: packaging>=20.0 in /usr/local/lib/python3.10/dist-packages (from matplotlib->catboost) (23.2)\n",
            "Requirement already satisfied: pillow>=6.2.0 in /usr/local/lib/python3.10/dist-packages (from matplotlib->catboost) (9.4.0)\n",
            "Requirement already satisfied: pyparsing>=2.3.1 in /usr/local/lib/python3.10/dist-packages (from matplotlib->catboost) (3.1.1)\n",
            "Requirement already satisfied: tenacity>=6.2.0 in /usr/local/lib/python3.10/dist-packages (from plotly->catboost) (8.2.3)\n",
            "Installing collected packages: catboost\n",
            "Successfully installed catboost-1.2.2\n"
          ]
        }
      ]
    },
    {
      "cell_type": "code",
      "execution_count": null,
      "metadata": {
        "id": "qhArAzIDVrEX",
        "colab": {
          "base_uri": "https://localhost:8080/"
        },
        "outputId": "4d0d5b26-5822-4fbb-f3a9-4896d4bd1993"
      },
      "outputs": [
        {
          "output_type": "stream",
          "name": "stdout",
          "text": [
            "0:\tlearn: 60.7819000\ttest: 59.7183715\tbest: 59.7183715 (0)\ttotal: 158ms\tremaining: 52m 49s\n",
            "1000:\tlearn: 46.4697375\ttest: 45.6538143\tbest: 45.6538143 (1000)\ttotal: 1m 41s\tremaining: 32m 12s\n",
            "2000:\tlearn: 45.6074614\ttest: 44.8824704\tbest: 44.8824704 (2000)\ttotal: 3m 12s\tremaining: 28m 54s\n",
            "3000:\tlearn: 45.4264368\ttest: 44.7394869\tbest: 44.7382109 (2240)\ttotal: 4m 42s\tremaining: 26m 41s\n",
            "4000:\tlearn: 45.4263872\ttest: 44.7394657\tbest: 44.7382109 (2240)\ttotal: 6m 10s\tremaining: 24m 40s\n",
            "5000:\tlearn: 45.4263685\ttest: 44.7394467\tbest: 44.7382109 (2240)\ttotal: 7m 38s\tremaining: 22m 55s\n",
            "6000:\tlearn: 45.4263515\ttest: 44.7394383\tbest: 44.7382109 (2240)\ttotal: 9m 6s\tremaining: 21m 15s\n",
            "7000:\tlearn: 45.4263394\ttest: 44.7394238\tbest: 44.7382109 (2240)\ttotal: 10m 38s\tremaining: 19m 45s\n",
            "8000:\tlearn: 45.4263260\ttest: 44.7394090\tbest: 44.7382109 (2240)\ttotal: 12m 5s\tremaining: 18m 8s\n",
            "9000:\tlearn: 45.4263110\ttest: 44.7393941\tbest: 44.7382109 (2240)\ttotal: 13m 33s\tremaining: 16m 34s\n",
            "10000:\tlearn: 45.4261165\ttest: 44.7391643\tbest: 44.7382109 (2240)\ttotal: 15m 2s\tremaining: 15m 2s\n",
            "11000:\tlearn: 45.4260859\ttest: 44.7391287\tbest: 44.7382109 (2240)\ttotal: 16m 31s\tremaining: 13m 30s\n",
            "12000:\tlearn: 45.4260349\ttest: 44.7390795\tbest: 44.7382109 (2240)\ttotal: 17m 59s\tremaining: 11m 59s\n",
            "13000:\tlearn: 45.4258128\ttest: 44.7387834\tbest: 44.7382109 (2240)\ttotal: 19m 27s\tremaining: 10m 28s\n",
            "14000:\tlearn: 45.4258079\ttest: 44.7387780\tbest: 44.7382109 (2240)\ttotal: 20m 55s\tremaining: 8m 57s\n",
            "15000:\tlearn: 45.4258042\ttest: 44.7387723\tbest: 44.7382109 (2240)\ttotal: 22m 23s\tremaining: 7m 27s\n",
            "16000:\tlearn: 45.4258006\ttest: 44.7387660\tbest: 44.7382109 (2240)\ttotal: 23m 50s\tremaining: 5m 57s\n",
            "17000:\tlearn: 45.4257583\ttest: 44.7387378\tbest: 44.7382109 (2240)\ttotal: 25m 17s\tremaining: 4m 27s\n",
            "18000:\tlearn: 45.4257313\ttest: 44.7386946\tbest: 44.7382109 (2240)\ttotal: 26m 44s\tremaining: 2m 58s\n",
            "19000:\tlearn: 45.4257280\ttest: 44.7386805\tbest: 44.7382109 (2240)\ttotal: 28m 13s\tremaining: 1m 29s\n",
            "19999:\tlearn: 45.4257224\ttest: 44.7386654\tbest: 44.7382109 (2240)\ttotal: 29m 39s\tremaining: 0us\n",
            "\n",
            "bestTest = 44.73821086\n",
            "bestIteration = 2240\n",
            "\n",
            "Shrink model to first 2241 iterations.\n"
          ]
        },
        {
          "output_type": "execute_result",
          "data": {
            "text/plain": [
              "<catboost.core.CatBoostRegressor at 0x79ba57a77b20>"
            ]
          },
          "metadata": {},
          "execution_count": 27
        }
      ],
      "source": [
        "from catboost import CatBoostRegressor\n",
        "\n",
        "cbc = CatBoostRegressor(verbose=1000, iterations=20000, objective='MAE', use_best_model=True)\n",
        "cbc.fit(x_train, y_train, eval_set=(x_valid, y_valid))"
      ]
    },
    {
      "cell_type": "code",
      "source": [
        "importances = cbc.get_feature_importance(type='PredictionValuesChange')\n",
        "feature_importances = pd.Series(importances, index=X.columns).sort_values()"
      ],
      "metadata": {
        "id": "YoWOCfVOZwJL"
      },
      "execution_count": null,
      "outputs": []
    },
    {
      "cell_type": "code",
      "source": [
        "feature_importances"
      ],
      "metadata": {
        "colab": {
          "base_uri": "https://localhost:8080/"
        },
        "id": "1CvJv49UjUx8",
        "outputId": "9b773100-3565-42f8-ba6e-d847bb31b19b"
      },
      "execution_count": null,
      "outputs": [
        {
          "output_type": "execute_result",
          "data": {
            "text/plain": [
              "MINUTE                 0.031211\n",
              "ATA_LT                 0.076477\n",
              "DRAUGHT                0.147854\n",
              "MONTH                  0.186279\n",
              "HOUR                   0.356083\n",
              "DEPTH                  0.384143\n",
              "YEAR_STD               0.601943\n",
              "SIZE_MEAN              0.969893\n",
              "YEAR_MEAN              1.115096\n",
              "SIZE_STD               1.692967\n",
              "YEAR                   1.724651\n",
              "ARI_PO                 2.119798\n",
              "SHIP_TYPE_CATEGORY     2.324926\n",
              "LENGTH_MEAN            2.815708\n",
              "DIST_MEAN              3.068466\n",
              "LENGTH_STD             3.371962\n",
              "DIST_STD               3.576187\n",
              "DEADWEIGHT             3.667050\n",
              "PORT_SIZE              4.285270\n",
              "BREADTH                4.660115\n",
              "GT                     4.934791\n",
              "WEEKDAY                5.284405\n",
              "ARI_CO                 5.680265\n",
              "LENGTH                13.002847\n",
              "DIST                  33.921614\n",
              "dtype: float64"
            ]
          },
          "metadata": {},
          "execution_count": 29
        }
      ]
    },
    {
      "cell_type": "code",
      "execution_count": null,
      "metadata": {
        "id": "BIep0zKhV8vN",
        "colab": {
          "base_uri": "https://localhost:8080/"
        },
        "outputId": "fcabf6d0-9fc3-410d-c3b5-75531ec831c3"
      },
      "outputs": [
        {
          "output_type": "execute_result",
          "data": {
            "text/plain": [
              "44.73821170001844"
            ]
          },
          "metadata": {},
          "execution_count": 30
        }
      ],
      "source": [
        "from sklearn.metrics import mean_absolute_error\n",
        "\n",
        "pred = cbc.predict(x_valid)\n",
        "mean_absolute_error(pred, y_valid)"
      ]
    },
    {
      "cell_type": "code",
      "source": [
        "# test 데이터셋에 대한 예측\n",
        "final = cbc.predict(test_scld)"
      ],
      "metadata": {
        "id": "gS5GowGAuhpE"
      },
      "execution_count": null,
      "outputs": []
    },
    {
      "cell_type": "markdown",
      "metadata": {
        "id": "hAK8Qct72l9G"
      },
      "source": [
        "## **| 제출 파일 생성 및 저장**"
      ]
    },
    {
      "cell_type": "code",
      "execution_count": null,
      "metadata": {
        "id": "0ZWc2WGAWLXS"
      },
      "outputs": [],
      "source": [
        "submit = pd.read_csv('/content/drive/MyDrive/HD현대 AI Challenge/Data/sample_submission.csv')\n",
        "submit['CI_HOUR'] = final"
      ]
    },
    {
      "cell_type": "code",
      "execution_count": null,
      "metadata": {
        "id": "0EicY0D42pIy"
      },
      "outputs": [],
      "source": [
        "submit.to_csv('YOUN/sub_FE1023(6).csv', index=False) # 파일 이름 수정"
      ]
    }
  ],
  "metadata": {
    "colab": {
      "provenance": [],
      "collapsed_sections": [
        "NK1sSOxmu_Ml",
        "_kZ5uZ8z-J-j",
        "dUYBr6NQ-r85"
      ],
      "include_colab_link": true
    },
    "kernelspec": {
      "display_name": "Python 3",
      "name": "python3"
    },
    "language_info": {
      "name": "python"
    }
  },
  "nbformat": 4,
  "nbformat_minor": 0
}