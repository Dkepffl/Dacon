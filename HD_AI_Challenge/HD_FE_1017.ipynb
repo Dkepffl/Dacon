{
  "nbformat": 4,
  "nbformat_minor": 0,
  "metadata": {
    "colab": {
      "provenance": [],
      "collapsed_sections": [
        "R79Xazi9tq_i"
      ],
      "include_colab_link": true
    },
    "kernelspec": {
      "name": "python3",
      "display_name": "Python 3"
    },
    "language_info": {
      "name": "python"
    }
  },
  "cells": [
    {
      "cell_type": "markdown",
      "metadata": {
        "id": "view-in-github",
        "colab_type": "text"
      },
      "source": [
        "<a href=\"https://colab.research.google.com/github/Dkepffl/Dacon/blob/main/HD_AI_Challenge/HD_FE_1017.ipynb\" target=\"_parent\"><img src=\"https://colab.research.google.com/assets/colab-badge.svg\" alt=\"Open In Colab\"/></a>"
      ]
    },
    {
      "cell_type": "markdown",
      "source": [
        "# **HD 현대 AI Chalenge**\n",
        "- 구글 드라이브 어마운트를 통해 데이터 로드\n",
        "- 리더보드 최저 점수(26.8103796658) 코드\n"
      ],
      "metadata": {
        "id": "CHj4P9i5s3Dx"
      }
    },
    {
      "cell_type": "markdown",
      "source": [
        "## **| 구글 드라이브 어마운트**"
      ],
      "metadata": {
        "id": "LVTp6BEmutI-"
      }
    },
    {
      "cell_type": "code",
      "execution_count": null,
      "metadata": {
        "colab": {
          "base_uri": "https://localhost:8080/"
        },
        "id": "xZCT1JmvUANR",
        "outputId": "6d615dcb-6e92-4678-c616-e8e73d61f00d"
      },
      "outputs": [
        {
          "output_type": "stream",
          "name": "stdout",
          "text": [
            "Mounted at /content/drive\n"
          ]
        }
      ],
      "source": [
        "from google.colab import drive\n",
        "drive.mount('/content/drive')"
      ]
    },
    {
      "cell_type": "markdown",
      "source": [
        "## **| 필요한 라이브러리 로드**"
      ],
      "metadata": {
        "id": "xlaAw-VNuvR6"
      }
    },
    {
      "cell_type": "code",
      "execution_count": null,
      "metadata": {
        "id": "9-ZknC5OTJ7w"
      },
      "outputs": [],
      "source": [
        "# import libraries\n",
        "import numpy as np\n",
        "import pandas as pd\n",
        "\n",
        "import seaborn as sns\n",
        "import matplotlib.pyplot as plt\n",
        "\n",
        "import os"
      ]
    },
    {
      "cell_type": "markdown",
      "source": [
        "## **| 작업 폴더 변경 및 데이터 로드**"
      ],
      "metadata": {
        "id": "7ZlSE5r9uxBk"
      }
    },
    {
      "cell_type": "code",
      "execution_count": null,
      "metadata": {
        "colab": {
          "base_uri": "https://localhost:8080/",
          "height": 35
        },
        "id": "Usj-__veTLYP",
        "outputId": "b9e847c4-3e70-4f7b-cfbd-eefac7ac4b36"
      },
      "outputs": [
        {
          "output_type": "execute_result",
          "data": {
            "text/plain": [
              "'/content/drive/MyDrive/HD현대 AI Challenge'"
            ],
            "application/vnd.google.colaboratory.intrinsic+json": {
              "type": "string"
            }
          },
          "metadata": {},
          "execution_count": 3
        }
      ],
      "source": [
        "os.chdir(\"/content/drive/MyDrive/HD현대 AI Challenge\") # 각자 드라이브에 맞춰 변경\n",
        "os.getcwd()"
      ]
    },
    {
      "cell_type": "code",
      "execution_count": null,
      "metadata": {
        "id": "9zCAgA4kUazx"
      },
      "outputs": [],
      "source": [
        "train = pd.read_csv('Data/train.csv').drop('SAMPLE_ID', axis=1)\n",
        "test = pd.read_csv('Data/test.csv').drop('SAMPLE_ID', axis=1)"
      ]
    },
    {
      "cell_type": "code",
      "source": [
        "# 원본 데이터셋 별도 저장\n",
        "train_proto = train.copy()\n",
        "test_proto = test.copy()"
      ],
      "metadata": {
        "id": "NFjSyTGtvw-2"
      },
      "execution_count": null,
      "outputs": []
    },
    {
      "cell_type": "markdown",
      "metadata": {
        "id": "xSUUjNuDU4fT"
      },
      "source": [
        "## **| 데이터 전처리**"
      ]
    },
    {
      "cell_type": "markdown",
      "metadata": {
        "id": "qPmcy5YwU9Pq"
      },
      "source": [
        "### **1. ATA 변수 처리**"
      ]
    },
    {
      "cell_type": "code",
      "source": [
        "from datetime import datetime\n",
        "\n",
        "# datetime 컬럼 처리\n",
        "train['ATA'] = pd.to_datetime(train['ATA'])\n",
        "test['ATA'] = pd.to_datetime(test['ATA'])\n",
        "\n",
        "# datetime을 여러 파생 변수로 변환\n",
        "for df in [train, test]:\n",
        "  df['YEAR'] = df['ATA'].dt.year\n",
        "  df['MONTH'] = df['ATA'].dt.month\n",
        "  df['DAY'] = df['ATA'].dt.day\n",
        "  df['HOUR'] = df['ATA'].dt.hour\n",
        "  df['MINUTE'] = df['ATA'].dt.minute\n",
        "  df['WEEKDAY'] = df['ATA'].dt.weekday"
      ],
      "metadata": {
        "id": "va5YyDf-EtFd"
      },
      "execution_count": null,
      "outputs": []
    },
    {
      "cell_type": "code",
      "source": [
        "train.drop('ATA', axis=1, inplace=True)\n",
        "test.drop('ATA', axis=1, inplace=True)"
      ],
      "metadata": {
        "id": "IcekLfxpJpgJ"
      },
      "execution_count": null,
      "outputs": []
    },
    {
      "cell_type": "markdown",
      "metadata": {
        "id": "D82J14cfVDLJ"
      },
      "source": [
        "### **2. 파생 변수 추가**"
      ]
    },
    {
      "cell_type": "code",
      "source": [
        "port_list1=train['ARI_PO'].unique().tolist()\n",
        "port_list2=test['ARI_PO'].unique().tolist()"
      ],
      "metadata": {
        "id": "hL5ZrJvevg1C"
      },
      "execution_count": null,
      "outputs": []
    },
    {
      "cell_type": "markdown",
      "source": [
        "#### **항구별 월 BN 평균값 및 표준편차**"
      ],
      "metadata": {
        "id": "R79Xazi9tq_i"
      }
    },
    {
      "cell_type": "code",
      "source": [
        "BN_dist_train=train.groupby(['ARI_PO','MONTH'])['BN'].agg(['mean','std']).reset_index()\n",
        "BN_dist_test=test.groupby(['ARI_PO','MONTH'])['BN'].agg(['mean','std']).reset_index()"
      ],
      "metadata": {
        "id": "_1qVwpjvtx8U"
      },
      "execution_count": null,
      "outputs": []
    },
    {
      "cell_type": "code",
      "source": [
        "BN_dist_train.fillna(-1, inplace=True)\n",
        "BN_dist_test.fillna(-1, inplace=True)"
      ],
      "metadata": {
        "id": "9Z2hT6knyyrH"
      },
      "execution_count": null,
      "outputs": []
    },
    {
      "cell_type": "code",
      "source": [
        "# 오류 발생! 모든 달의 BN 값이 없는 항구 있음\n",
        "for i in range(1,13):\n",
        "  for port in port_list1:\n",
        "      train.loc[(train['MONTH']==i)&(train['ARI_PO']==port),'BN_MEAN'] = BN_dist_train.loc[(BN_dist_train['MONTH']==i)&(BN_dist_train['ARI_PO']==port),'mean'].values[0]\n",
        "      train.loc[(train['MONTH']==i)&(train['ARI_PO']==port),'BN_STD'] = BN_dist_train.loc[(BN_dist_train['MONTH']==i)&(BN_dist_train['ARI_PO']==port),'std'].values[0]"
      ],
      "metadata": {
        "id": "Wf1nbaH9t4Li"
      },
      "execution_count": null,
      "outputs": []
    },
    {
      "cell_type": "code",
      "source": [
        "for i in range(1,13):\n",
        "  for port in port_list2:\n",
        "    test.loc[(test['MONTH']==i)&(test['ARI_PO']==port),'BN_MEAN'] = BN_dist_test.loc[(BN_dist_test['MONTH']==i)&(BN_dist_test['ARI_PO']==port),'mean'].values[0]\n",
        "    test.loc[(test['MONTH']==i)&(test['ARI_PO']==port),'BN_STD'] = BN_dist_test.loc[(BN_dist_test['MONTH']==i)&(BN_dist_test['ARI_PO']==port),'std'].values[0]"
      ],
      "metadata": {
        "id": "-6Bjmfm0084i"
      },
      "execution_count": null,
      "outputs": []
    },
    {
      "cell_type": "code",
      "source": [
        "train.info()"
      ],
      "metadata": {
        "id": "NxEu1xvUypfg"
      },
      "execution_count": null,
      "outputs": []
    },
    {
      "cell_type": "markdown",
      "source": [
        "#### **ATA_PO 별 DIST 통계량**"
      ],
      "metadata": {
        "id": "OgFi_xJpTV05"
      }
    },
    {
      "cell_type": "code",
      "source": [
        "DIST_dist_train=train.groupby('ARI_PO')['DIST'].agg(['mean','std']).reset_index()\n",
        "DIST_dist_test=train.groupby('ARI_PO')['DIST'].agg(['mean','std']).reset_index()"
      ],
      "metadata": {
        "id": "6T9AvNtbk9px"
      },
      "execution_count": null,
      "outputs": []
    },
    {
      "cell_type": "code",
      "source": [
        "DIST_dist_train.loc[DIST_dist_train['ARI_PO']=='EKP8','mean'].values[0]"
      ],
      "metadata": {
        "colab": {
          "base_uri": "https://localhost:8080/"
        },
        "id": "sNsd1Qmwk_iK",
        "outputId": "edb34e1e-636e-425b-c0c7-55088334b8f0"
      },
      "execution_count": null,
      "outputs": [
        {
          "output_type": "execute_result",
          "data": {
            "text/plain": [
              "14.408828688066436"
            ]
          },
          "metadata": {},
          "execution_count": 10
        }
      ]
    },
    {
      "cell_type": "code",
      "source": [
        "for port in port_list1:\n",
        "  train.loc[train['ARI_PO']==port,'DIST_MEAN'] = DIST_dist_train.loc[DIST_dist_train['ARI_PO']==port,'mean'].values[0]\n",
        "  train.loc[train['ARI_PO']==port,'DIST_STD'] = DIST_dist_train.loc[DIST_dist_train['ARI_PO']==port,'std'].values[0]\n",
        "\n",
        "for port in port_list2:\n",
        "  test.loc[test['ARI_PO']==port,'DIST_MEAN'] = DIST_dist_test.loc[DIST_dist_test['ARI_PO']==port,'mean'].values[0]\n",
        "  test.loc[test['ARI_PO']==port,'DIST_STD'] = DIST_dist_test.loc[DIST_dist_test['ARI_PO']==port,'std'].values[0]"
      ],
      "metadata": {
        "id": "J0Dxp3OMZYXr"
      },
      "execution_count": null,
      "outputs": []
    },
    {
      "cell_type": "markdown",
      "metadata": {
        "id": "rRCnwXoZVQ8r"
      },
      "source": [
        "### **3. 카테고리 변수 라벨 인코딩**"
      ]
    },
    {
      "cell_type": "code",
      "source": [
        "from sklearn.preprocessing import LabelEncoder\n",
        "import bisect\n",
        "from tqdm import tqdm\n",
        "\n",
        "categorical_features = ['ARI_CO','ARI_PO', 'SHIP_TYPE_CATEGORY', 'ID', 'SHIPMANAGER','FLAG']\n",
        "encoders = {}\n",
        "\n",
        "for feature in tqdm(categorical_features, desc=\"Encoding features\"):\n",
        "  le = LabelEncoder()\n",
        "  train[feature] = le.fit_transform(train[feature].astype(str))\n",
        "  le_classes_set = set(le.classes_)\n",
        "  test[feature] = test[feature].map(lambda s: '-1' if s not in le_classes_set else s)\n",
        "  le_classes = le.classes_.tolist()\n",
        "  bisect.insort_left(le_classes, '-1')\n",
        "  le.classes_ = np.array(le_classes)\n",
        "  test[feature] = le.transform(test[feature].astype(str))\n",
        "  encoders[feature] = le"
      ],
      "metadata": {
        "colab": {
          "base_uri": "https://localhost:8080/"
        },
        "id": "k1tyqoRuvZZd",
        "outputId": "ede65363-908e-4359-b492-907fe37bdbdc"
      },
      "execution_count": null,
      "outputs": [
        {
          "output_type": "stream",
          "name": "stderr",
          "text": [
            "Encoding features: 100%|██████████| 6/6 [00:02<00:00,  2.92it/s]\n"
          ]
        }
      ]
    },
    {
      "cell_type": "markdown",
      "metadata": {
        "id": "XzXxdPjaVn3d"
      },
      "source": [
        "### **4. 미사용 컬럼 제거**"
      ]
    },
    {
      "cell_type": "code",
      "source": [
        "train.drop(columns=['ID', 'SHIPMANAGER', 'FLAG', 'U_WIND', 'V_WIND', 'AIR_TEMPERATURE', 'BUILT'], inplace=True)\n",
        "test.drop(columns=['ID', 'SHIPMANAGER', 'FLAG', 'U_WIND', 'V_WIND', 'AIR_TEMPERATURE', 'BUILT'], inplace=True)"
      ],
      "metadata": {
        "id": "ZxHScJMT5gcp"
      },
      "execution_count": null,
      "outputs": []
    },
    {
      "cell_type": "code",
      "source": [
        "train = train.fillna(-1)\n",
        "test = test.fillna(-1)"
      ],
      "metadata": {
        "id": "LeLDpCvvENBy"
      },
      "execution_count": null,
      "outputs": []
    },
    {
      "cell_type": "code",
      "source": [
        "train.info()"
      ],
      "metadata": {
        "colab": {
          "base_uri": "https://localhost:8080/"
        },
        "id": "8Hgoe1CCUdqN",
        "outputId": "3c122192-96d4-4d57-8233-150341c4fc2c"
      },
      "execution_count": null,
      "outputs": [
        {
          "output_type": "stream",
          "name": "stdout",
          "text": [
            "<class 'pandas.core.frame.DataFrame'>\n",
            "RangeIndex: 391939 entries, 0 to 391938\n",
            "Data columns (total 22 columns):\n",
            " #   Column              Non-Null Count   Dtype  \n",
            "---  ------              --------------   -----  \n",
            " 0   ARI_CO              391939 non-null  int64  \n",
            " 1   ARI_PO              391939 non-null  int64  \n",
            " 2   SHIP_TYPE_CATEGORY  391939 non-null  int64  \n",
            " 3   DIST                391939 non-null  float64\n",
            " 4   BREADTH             391939 non-null  float64\n",
            " 5   DEADWEIGHT          391939 non-null  int64  \n",
            " 6   DEPTH               391939 non-null  float64\n",
            " 7   DRAUGHT             391939 non-null  float64\n",
            " 8   GT                  391939 non-null  int64  \n",
            " 9   LENGTH              391939 non-null  float64\n",
            " 10  BN                  391939 non-null  float64\n",
            " 11  ATA_LT              391939 non-null  int64  \n",
            " 12  PORT_SIZE           391939 non-null  float64\n",
            " 13  CI_HOUR             391939 non-null  float64\n",
            " 14  YEAR                391939 non-null  int64  \n",
            " 15  MONTH               391939 non-null  int64  \n",
            " 16  DAY                 391939 non-null  int64  \n",
            " 17  HOUR                391939 non-null  int64  \n",
            " 18  MINUTE              391939 non-null  int64  \n",
            " 19  WEEKDAY             391939 non-null  int64  \n",
            " 20  DIST_MEAN           391939 non-null  float64\n",
            " 21  DIST_STD            391939 non-null  float64\n",
            "dtypes: float64(10), int64(12)\n",
            "memory usage: 65.8 MB\n"
          ]
        }
      ]
    },
    {
      "cell_type": "markdown",
      "source": [
        "### **5. 스케일링**"
      ],
      "metadata": {
        "id": "b98tVbKZ-Ey3"
      }
    },
    {
      "cell_type": "code",
      "source": [
        "from sklearn.preprocessing import StandardScaler\n",
        "\n",
        "scl = StandardScaler()\n",
        "\n",
        "train_scld = scl.fit_transform(train.drop('CI_HOUR', axis=1))\n",
        "train_scld = pd.DataFrame(train_scld, columns=train.drop('CI_HOUR', axis=1).columns)\n",
        "\n",
        "test_scld = scl.transform(test)\n",
        "test_scld = pd.DataFrame(test_scld, columns=test.columns)"
      ],
      "metadata": {
        "id": "iFS6R1lM9nhC"
      },
      "execution_count": null,
      "outputs": []
    },
    {
      "cell_type": "markdown",
      "metadata": {
        "id": "9QRHLqbaV03L"
      },
      "source": [
        "## **| 모델 학습**"
      ]
    },
    {
      "cell_type": "markdown",
      "source": [
        "### **학습/검증 데이터셋 생성**"
      ],
      "metadata": {
        "id": "csZij4HB0aC3"
      }
    },
    {
      "cell_type": "code",
      "source": [
        "from sklearn.model_selection import train_test_split\n",
        "X = train_scld\n",
        "Y = train[\"CI_HOUR\"]\n",
        "x_train, x_valid, y_train, y_valid = train_test_split(X, Y, test_size=0.2, random_state=42)"
      ],
      "metadata": {
        "id": "8YGAFSNjvcRV"
      },
      "execution_count": null,
      "outputs": []
    },
    {
      "cell_type": "markdown",
      "metadata": {
        "id": "ETDa6HzNV7BJ"
      },
      "source": [
        "### **Catboost 모델링**"
      ]
    },
    {
      "cell_type": "code",
      "source": [
        "!pip install catboost"
      ],
      "metadata": {
        "colab": {
          "base_uri": "https://localhost:8080/"
        },
        "id": "lpajHFg6WSr8",
        "outputId": "85b36f47-8028-471e-a78e-fd03a6e85e23"
      },
      "execution_count": null,
      "outputs": [
        {
          "output_type": "stream",
          "name": "stdout",
          "text": [
            "Collecting catboost\n",
            "  Downloading catboost-1.2.2-cp310-cp310-manylinux2014_x86_64.whl (98.7 MB)\n",
            "\u001b[2K     \u001b[90m━━━━━━━━━━━━━━━━━━━━━━━━━━━━━━━━━━━━━━━━\u001b[0m \u001b[32m98.7/98.7 MB\u001b[0m \u001b[31m9.3 MB/s\u001b[0m eta \u001b[36m0:00:00\u001b[0m\n",
            "\u001b[?25hRequirement already satisfied: graphviz in /usr/local/lib/python3.10/dist-packages (from catboost) (0.20.1)\n",
            "Requirement already satisfied: matplotlib in /usr/local/lib/python3.10/dist-packages (from catboost) (3.7.1)\n",
            "Requirement already satisfied: numpy>=1.16.0 in /usr/local/lib/python3.10/dist-packages (from catboost) (1.23.5)\n",
            "Requirement already satisfied: pandas>=0.24 in /usr/local/lib/python3.10/dist-packages (from catboost) (1.5.3)\n",
            "Requirement already satisfied: scipy in /usr/local/lib/python3.10/dist-packages (from catboost) (1.11.3)\n",
            "Requirement already satisfied: plotly in /usr/local/lib/python3.10/dist-packages (from catboost) (5.15.0)\n",
            "Requirement already satisfied: six in /usr/local/lib/python3.10/dist-packages (from catboost) (1.16.0)\n",
            "Requirement already satisfied: python-dateutil>=2.8.1 in /usr/local/lib/python3.10/dist-packages (from pandas>=0.24->catboost) (2.8.2)\n",
            "Requirement already satisfied: pytz>=2020.1 in /usr/local/lib/python3.10/dist-packages (from pandas>=0.24->catboost) (2023.3.post1)\n",
            "Requirement already satisfied: contourpy>=1.0.1 in /usr/local/lib/python3.10/dist-packages (from matplotlib->catboost) (1.1.1)\n",
            "Requirement already satisfied: cycler>=0.10 in /usr/local/lib/python3.10/dist-packages (from matplotlib->catboost) (0.12.1)\n",
            "Requirement already satisfied: fonttools>=4.22.0 in /usr/local/lib/python3.10/dist-packages (from matplotlib->catboost) (4.43.1)\n",
            "Requirement already satisfied: kiwisolver>=1.0.1 in /usr/local/lib/python3.10/dist-packages (from matplotlib->catboost) (1.4.5)\n",
            "Requirement already satisfied: packaging>=20.0 in /usr/local/lib/python3.10/dist-packages (from matplotlib->catboost) (23.2)\n",
            "Requirement already satisfied: pillow>=6.2.0 in /usr/local/lib/python3.10/dist-packages (from matplotlib->catboost) (9.4.0)\n",
            "Requirement already satisfied: pyparsing>=2.3.1 in /usr/local/lib/python3.10/dist-packages (from matplotlib->catboost) (3.1.1)\n",
            "Requirement already satisfied: tenacity>=6.2.0 in /usr/local/lib/python3.10/dist-packages (from plotly->catboost) (8.2.3)\n",
            "Installing collected packages: catboost\n",
            "Successfully installed catboost-1.2.2\n"
          ]
        }
      ]
    },
    {
      "cell_type": "code",
      "execution_count": null,
      "metadata": {
        "id": "qhArAzIDVrEX",
        "colab": {
          "base_uri": "https://localhost:8080/"
        },
        "outputId": "0d0ffe94-2d7e-40f7-8416-10268c94a892"
      },
      "outputs": [
        {
          "output_type": "stream",
          "name": "stdout",
          "text": [
            "0:\tlearn: 60.8150604\ttest: 59.7491016\tbest: 59.7491016 (0)\ttotal: 228ms\tremaining: 1h 16m\n",
            "1000:\tlearn: 47.0460331\ttest: 46.1682759\tbest: 46.1682759 (1000)\ttotal: 1m 46s\tremaining: 33m 39s\n",
            "2000:\tlearn: 46.3540212\ttest: 45.5526967\tbest: 45.5526967 (2000)\ttotal: 3m 16s\tremaining: 29m 26s\n",
            "3000:\tlearn: 45.4783012\ttest: 44.7827878\tbest: 44.7827878 (3000)\ttotal: 4m 50s\tremaining: 27m 25s\n",
            "4000:\tlearn: 45.4193002\ttest: 44.7453294\tbest: 44.7453154 (3952)\ttotal: 6m 21s\tremaining: 25m 24s\n",
            "5000:\tlearn: 45.4149869\ttest: 44.7433669\tbest: 44.7433425 (4981)\ttotal: 7m 51s\tremaining: 23m 34s\n",
            "6000:\tlearn: 45.4112235\ttest: 44.7412501\tbest: 44.7412348 (5985)\ttotal: 9m 22s\tremaining: 21m 53s\n",
            "7000:\tlearn: 45.4075146\ttest: 44.7389137\tbest: 44.7389137 (7000)\ttotal: 10m 53s\tremaining: 20m 12s\n",
            "8000:\tlearn: 45.4038410\ttest: 44.7364812\tbest: 44.7364812 (8000)\ttotal: 12m 23s\tremaining: 18m 35s\n",
            "9000:\tlearn: 45.4033102\ttest: 44.7361238\tbest: 44.7361238 (8979)\ttotal: 13m 56s\tremaining: 17m 2s\n",
            "10000:\tlearn: 45.4033102\ttest: 44.7361238\tbest: 44.7361238 (8979)\ttotal: 15m 33s\tremaining: 15m 33s\n",
            "11000:\tlearn: 45.4033102\ttest: 44.7361238\tbest: 44.7361238 (8979)\ttotal: 17m 4s\tremaining: 13m 58s\n",
            "12000:\tlearn: 45.4033102\ttest: 44.7361238\tbest: 44.7361238 (8979)\ttotal: 18m 38s\tremaining: 12m 25s\n",
            "13000:\tlearn: 45.4033102\ttest: 44.7361238\tbest: 44.7361238 (8979)\ttotal: 20m 10s\tremaining: 10m 51s\n",
            "14000:\tlearn: 45.4033102\ttest: 44.7361238\tbest: 44.7361238 (8979)\ttotal: 21m 44s\tremaining: 9m 18s\n",
            "15000:\tlearn: 45.4033102\ttest: 44.7361238\tbest: 44.7361238 (8979)\ttotal: 23m 14s\tremaining: 7m 44s\n",
            "16000:\tlearn: 45.4033102\ttest: 44.7361238\tbest: 44.7361238 (8979)\ttotal: 24m 48s\tremaining: 6m 12s\n",
            "17000:\tlearn: 45.4033102\ttest: 44.7361238\tbest: 44.7361238 (8979)\ttotal: 26m 19s\tremaining: 4m 38s\n",
            "18000:\tlearn: 45.4033102\ttest: 44.7361238\tbest: 44.7361238 (8979)\ttotal: 27m 51s\tremaining: 3m 5s\n",
            "19000:\tlearn: 45.4033102\ttest: 44.7361238\tbest: 44.7361238 (8979)\ttotal: 29m 26s\tremaining: 1m 32s\n",
            "19999:\tlearn: 45.4033102\ttest: 44.7361238\tbest: 44.7361238 (19492)\ttotal: 30m 56s\tremaining: 0us\n",
            "\n",
            "bestTest = 44.73612382\n",
            "bestIteration = 19492\n",
            "\n",
            "Shrink model to first 19493 iterations.\n"
          ]
        },
        {
          "output_type": "execute_result",
          "data": {
            "text/plain": [
              "<catboost.core.CatBoostRegressor at 0x7ba9a0b872b0>"
            ]
          },
          "metadata": {},
          "execution_count": 19
        }
      ],
      "source": [
        "from catboost import CatBoostRegressor\n",
        "\n",
        "cbc = CatBoostRegressor(verbose=1000, iterations=20000, objective='MAE', use_best_model=True)\n",
        "cbc.fit(x_train, y_train, eval_set=(x_valid, y_valid))"
      ]
    },
    {
      "cell_type": "code",
      "source": [
        "importances = cbc.get_feature_importance(type='PredictionValuesChange')\n",
        "feature_importances = pd.Series(importances, index=X.columns).sort_values()"
      ],
      "metadata": {
        "id": "YoWOCfVOZwJL"
      },
      "execution_count": null,
      "outputs": []
    },
    {
      "cell_type": "code",
      "source": [
        "feature_importances"
      ],
      "metadata": {
        "id": "x5Ci-BgeiaO3",
        "outputId": "ef0ff161-dc70-4428-e12b-39c098b19f77",
        "colab": {
          "base_uri": "https://localhost:8080/"
        }
      },
      "execution_count": null,
      "outputs": [
        {
          "output_type": "execute_result",
          "data": {
            "text/plain": [
              "MINUTE                 0.047171\n",
              "DAY                    0.098137\n",
              "DRAUGHT                0.143943\n",
              "ATA_LT                 0.189719\n",
              "HOUR                   0.317135\n",
              "MONTH                  0.405596\n",
              "DEPTH                  0.943819\n",
              "ARI_PO                 2.038877\n",
              "DIST_MEAN              2.150668\n",
              "BN                     2.323883\n",
              "YEAR                   3.811057\n",
              "DIST_STD               4.189727\n",
              "DEADWEIGHT             4.577290\n",
              "WEEKDAY                4.906688\n",
              "LENGTH                 5.138632\n",
              "BREADTH                5.215433\n",
              "SHIP_TYPE_CATEGORY     6.352288\n",
              "PORT_SIZE              6.492508\n",
              "GT                    10.321805\n",
              "ARI_CO                13.189242\n",
              "DIST                  27.146382\n",
              "dtype: float64"
            ]
          },
          "metadata": {},
          "execution_count": 23
        }
      ]
    },
    {
      "cell_type": "code",
      "execution_count": null,
      "metadata": {
        "colab": {
          "base_uri": "https://localhost:8080/"
        },
        "id": "BIep0zKhV8vN",
        "outputId": "1a7693c2-b6ca-4941-d67b-adc7ff0d0207"
      },
      "outputs": [
        {
          "output_type": "execute_result",
          "data": {
            "text/plain": [
              "44.73612472241793"
            ]
          },
          "metadata": {},
          "execution_count": 21
        }
      ],
      "source": [
        "from sklearn.metrics import mean_absolute_error\n",
        "\n",
        "pred = cbc.predict(x_valid)\n",
        "mean_absolute_error(pred, y_valid)"
      ]
    },
    {
      "cell_type": "code",
      "source": [
        "# test 데이터셋에 대한 예측\n",
        "final = cbc.predict(test_scld)"
      ],
      "metadata": {
        "id": "gS5GowGAuhpE"
      },
      "execution_count": null,
      "outputs": []
    },
    {
      "cell_type": "markdown",
      "source": [
        "## **| 제출 파일 생성 및 저장**"
      ],
      "metadata": {
        "id": "hAK8Qct72l9G"
      }
    },
    {
      "cell_type": "code",
      "execution_count": null,
      "metadata": {
        "id": "0ZWc2WGAWLXS"
      },
      "outputs": [],
      "source": [
        "submit = pd.read_csv('/content/drive/MyDrive/HD현대 AI Challenge/Data/sample_submission.csv')\n",
        "submit['CI_HOUR'] = final"
      ]
    },
    {
      "cell_type": "code",
      "source": [
        "submit.to_csv('YOUN/sub_FE1017(6).csv', index=False) # 파일 이름 수정"
      ],
      "metadata": {
        "id": "0EicY0D42pIy"
      },
      "execution_count": null,
      "outputs": []
    }
  ]
}