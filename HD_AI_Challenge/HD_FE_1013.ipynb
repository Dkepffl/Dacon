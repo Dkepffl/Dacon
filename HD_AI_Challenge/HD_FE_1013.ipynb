{
  "nbformat": 4,
  "nbformat_minor": 0,
  "metadata": {
    "colab": {
      "provenance": [],
      "include_colab_link": true
    },
    "kernelspec": {
      "name": "python3",
      "display_name": "Python 3"
    },
    "language_info": {
      "name": "python"
    }
  },
  "cells": [
    {
      "cell_type": "markdown",
      "metadata": {
        "id": "view-in-github",
        "colab_type": "text"
      },
      "source": [
        "<a href=\"https://colab.research.google.com/github/Dkepffl/Dacon/blob/main/HD_AI_Challenge/HD_FE_1013.ipynb\" target=\"_parent\"><img src=\"https://colab.research.google.com/assets/colab-badge.svg\" alt=\"Open In Colab\"/></a>"
      ]
    },
    {
      "cell_type": "markdown",
      "source": [
        "# **HD 현대 AI Chalenge**\n",
        "- 구글 드라이브 어마운트를 통해 데이터 로드\n",
        "- 다양한 Feature Engineering 시도용 파일\n",
        "- Data Leakate 규칙\n",
        "  - [Data Leakage 너무 어려워요..](https://comgenie.tistory.com/99)"
      ],
      "metadata": {
        "id": "OQCEK8twR2tZ"
      }
    },
    {
      "cell_type": "markdown",
      "source": [
        "## **| 구글 드라이브 어마운트**"
      ],
      "metadata": {
        "id": "NCwOv9IKX-4j"
      }
    },
    {
      "cell_type": "code",
      "execution_count": null,
      "metadata": {
        "colab": {
          "base_uri": "https://localhost:8080/"
        },
        "id": "-EreyA-xQ5Bh",
        "outputId": "7c4ee853-01d5-4202-cd98-f3fe0ba3cee4"
      },
      "outputs": [
        {
          "output_type": "stream",
          "name": "stdout",
          "text": [
            "Drive already mounted at /content/drive; to attempt to forcibly remount, call drive.mount(\"/content/drive\", force_remount=True).\n"
          ]
        }
      ],
      "source": [
        "from google.colab import drive\n",
        "drive.mount('/content/drive')"
      ]
    },
    {
      "cell_type": "markdown",
      "source": [
        "## **| 필요한 라이브러리 로드**"
      ],
      "metadata": {
        "id": "my57ewEkYDLa"
      }
    },
    {
      "cell_type": "code",
      "source": [
        "# import libraries\n",
        "import numpy as np\n",
        "import pandas as pd\n",
        "import io\n",
        "\n",
        "import warnings\n",
        "warnings.filterwarnings('ignore')\n",
        "\n",
        "import matplotlib.pyplot as plt\n",
        "import seaborn as sns\n",
        "\n",
        "import lightgbm as lgb\n",
        "import bisect\n",
        "from tqdm import tqdm\n",
        "\n",
        "from sklearn.metrics import mean_absolute_error\n",
        "from sklearn.preprocessing import LabelEncoder\n",
        "from sklearn.model_selection import KFold"
      ],
      "metadata": {
        "id": "TxnaQv1VYBLm"
      },
      "execution_count": null,
      "outputs": []
    },
    {
      "cell_type": "markdown",
      "source": [
        "## **| 데이터 로드**"
      ],
      "metadata": {
        "id": "woPc4XNBYQPF"
      }
    },
    {
      "cell_type": "code",
      "source": [
        "# 데이터 로드\n",
        "train = pd.read_csv('/content/drive/MyDrive/HD현대 AI Challenge/Data/train_test.csv', index_col=0)\n",
        "test = pd.read_csv('/content/drive/MyDrive/HD현대 AI Challenge/Data/test_test.csv', index_col=0)"
      ],
      "metadata": {
        "id": "LoZbR7EyYHtE"
      },
      "execution_count": null,
      "outputs": []
    },
    {
      "cell_type": "code",
      "source": [
        "train.drop('Unnamed: 0', axis=1, inplace=True)\n",
        "test.drop('Unnamed: 0', axis=1, inplace=True)"
      ],
      "metadata": {
        "id": "sfbicJLTfOtq"
      },
      "execution_count": null,
      "outputs": []
    },
    {
      "cell_type": "code",
      "source": [
        "# 원본 데이터셋 별도 저장\n",
        "train_proto = train.copy()\n",
        "test_proto = test.copy()"
      ],
      "metadata": {
        "id": "lhaONFztvph9"
      },
      "execution_count": null,
      "outputs": []
    },
    {
      "cell_type": "markdown",
      "source": [
        "## **| 데이터 전처리**\n"
      ],
      "metadata": {
        "id": "j9GPpd2u-es2"
      }
    },
    {
      "cell_type": "markdown",
      "source": [
        "### **1. 결측치 처리**\n",
        "- 베이스라인에서 test 데이터셋의 평균값으로 결측치를 채웠는데,결측치를 평균값으로 대체하여 채우는 경우, test 데이터셋 또한 train 데이터셋의 평균값을 이용하여 결측치를 처리해야 한다는 답변 발견 [평균값 Data Leakage 관련 안내](https://dacon.io/en/competitions/official/235959/talkboard/406890?page=1&dtype=recent)\n",
        "- Imputation을 이용한 방법은 가능하다는 답변 확인 [test 데이터의 imputation에 관한 문의입니다.](https://dacon.io/competitions/official/235862/talkboard/405688)\n",
        "- 2014~2018년의 날씨 데이터가 통으로 존재하지 않기 때문에, MICE 방법을 이용하여 대체함. [코드 참고](https://www.numpyninja.com/post/how-to-implement-mice-algorithm-using-iterative-imputer-to-handle-missing-values)\n",
        "- (2023.10.12) 리더 보드 점수가 매우 나빠져, 평균으로 우선 채우기로 함\n",
        "- (2023.10.13) 평균으로 결측치 처리한 파일 사용. 결측치 처리 과정 생략"
      ],
      "metadata": {
        "id": "dg54ilOupv7z"
      }
    },
    {
      "cell_type": "markdown",
      "source": [
        "- train 데이터셋과 test 데이터셋 모두 결측치가 채워진 것을 아래 코드를 통해 확인. 작업의 효율을 위해 코드를 돌린 셀은 삭제함\n",
        "```{python}\n",
        "train.isnull().sum()\n",
        "test.isnull().sum()\n",
        "```"
      ],
      "metadata": {
        "id": "GbN2DrA3wWnX"
      }
    },
    {
      "cell_type": "markdown",
      "source": [
        "### **2. 상관 관계가 높은 컬럼을 PCA를 이용해 차원 축소**\n",
        "- 데이터 탐색 과정에서 컬럼들 간의 상관 관계를 확인하였다.\n",
        "- 유가와 관련된 DUBAI, BRENT, WTI 컬럼들의 상관 관계가 매우 높았다.\n",
        "- 선박의 용적과 관련된 GT, DEADWEIGHT, BREDATH, LENGTH 컬럼들 역시 상관관계가 높았다.\n",
        "- 해당 전처리와 베이스라인 코드를 조합했을 때, MAE 값이 줄어들었다."
      ],
      "metadata": {
        "id": "zF2ydkYgwwoJ"
      }
    },
    {
      "cell_type": "code",
      "source": [
        "# PCA를 이용한 차원 축소 함수\n",
        "from sklearn.preprocessing import StandardScaler\n",
        "from sklearn.decomposition import PCA\n",
        "\n",
        "standard_scaler = StandardScaler()\n",
        "\n",
        "def reduce_PCA(col_list,train, test):\n",
        "  # PCA를 적용할 컬럼만 추출\n",
        "  train_df = train[col_list]\n",
        "  test_df = test[col_list]\n",
        "\n",
        "  # PCA 적용을 위한 스케일링\n",
        "  train_df_sclaed = standard_scaler.fit_transform(train_df)\n",
        "  test_df_sclaed  = standard_scaler.transform(test_df)\n",
        "\n",
        "  # 차원 축소\n",
        "  pca_df= PCA(n_components=1)\n",
        "  train_df_PCA = pca_df.fit_transform(train_df_sclaed)\n",
        "  test_df_PCA = pca_df.transform(test_df_sclaed)\n",
        "\n",
        "  return train_df_PCA, test_df_PCA"
      ],
      "metadata": {
        "id": "2Jj5EszPxZQ5"
      },
      "execution_count": null,
      "outputs": []
    },
    {
      "cell_type": "code",
      "source": [
        "# DUBAI, BRENT, WTI\n",
        "# PCA 결과를 데이터프레임에 추가\n",
        "train['OIL_PCA'], test['OIL_PCA'] = reduce_PCA(['DUBAI','BRENT','WTI'], train, test)\n",
        "\n",
        "# 기존 컬럼 삭제\n",
        "train.drop(['DUBAI','BRENT','WTI'], axis=1, inplace=True)\n",
        "test.drop(['DUBAI','BRENT','WTI'], axis=1, inplace=True)"
      ],
      "metadata": {
        "id": "jQMHAHkGyTxh"
      },
      "execution_count": null,
      "outputs": []
    },
    {
      "cell_type": "code",
      "source": [
        "# GT, DEADWEIGHT, BREDATH, LENGTH\n",
        "# PCA 결과를 데이터프레임에 추가\n",
        "train['GT_PCA'], test['GT_PCA'] = reduce_PCA(['GT', 'DEADWEIGHT', 'BREADTH', 'LENGTH'], train, test)\n",
        "\n",
        "# 기존 컬럼 삭제\n",
        "train.drop(['GT', 'DEADWEIGHT', 'BREADTH', 'LENGTH'], axis=1, inplace=True)\n",
        "test.drop(['GT', 'DEADWEIGHT', 'BREADTH', 'LENGTH'], axis=1, inplace=True)"
      ],
      "metadata": {
        "id": "VueyYXS0yfO0"
      },
      "execution_count": null,
      "outputs": []
    },
    {
      "cell_type": "markdown",
      "source": [
        "### **3. ATA 변수 처리**"
      ],
      "metadata": {
        "id": "L3d_tmdU2pFo"
      }
    },
    {
      "cell_type": "code",
      "source": [
        "# datetime 컬럼 처리\n",
        "train['ATA'] = pd.to_datetime(train['ATA'])\n",
        "test['ATA'] = pd.to_datetime(test['ATA'])\n",
        "\n",
        "# datetime을 여러 파생 변수로 변환\n",
        "for df in [train, test]:\n",
        "  df['YEAR'] = df['ATA'].dt.year\n",
        "  df['MONTH'] = df['ATA'].dt.month\n",
        "  df['DAY'] = df['ATA'].dt.day\n",
        "  df['HOUR'] = df['ATA'].dt.hour\n",
        "  df['MINUTE'] = df['ATA'].dt.minute\n",
        "  df['WEEKDAY'] = df['ATA'].dt.weekday"
      ],
      "metadata": {
        "id": "Jj2AsJnn3CrC"
      },
      "execution_count": null,
      "outputs": []
    },
    {
      "cell_type": "markdown",
      "source": [
        "#### **항구별 평균 대기 시간 시계열 그래프**\n",
        "- 항구별로 모델을 다르게 할 지 확인"
      ],
      "metadata": {
        "id": "8vFnvHD9492H"
      }
    },
    {
      "cell_type": "code",
      "source": [
        "port = train['ARI_PO'].unique().tolist()"
      ],
      "metadata": {
        "id": "RRRT5ZhyJb93"
      },
      "execution_count": null,
      "outputs": []
    },
    {
      "cell_type": "code",
      "source": [
        "from matplotlib import dates\n",
        "\n",
        "fig = plt.figure(figsize=(35,35)) ## 캔버스 생성\n",
        "fig.set_facecolor('white') ## 캔버스 색상 설정\n",
        "i=1\n",
        "\n",
        "for col in port:\n",
        "  df = train[train.ARI_PO == col]\n",
        "  df = df[[\"ATA\", \"CI_HOUR\"]]\n",
        "\n",
        "  df.index = df['ATA']\n",
        "  df.set_index('ATA', inplace=True)\n",
        "\n",
        "  ax = fig.add_subplot(11,10,i)\n",
        "\n",
        "  i+=1\n",
        "\n",
        "  plt.plot(df.groupby('ATA')['CI_HOUR'].agg('mean'))\n",
        "  plt.title(\"PORT : {}\".format(col))\n",
        "  plt.grid()\n",
        "  plt.xticks(rotation=90)\n",
        "\n",
        "fig.tight_layout()\n",
        "plt.show()"
      ],
      "metadata": {
        "id": "xPRR4Wr2JT3p"
      },
      "execution_count": null,
      "outputs": []
    },
    {
      "cell_type": "code",
      "source": [
        "# datetime 컬럼 제거\n",
        "train.drop(columns='ATA', inplace=True)\n",
        "test.drop(columns='ATA', inplace=True)"
      ],
      "metadata": {
        "id": "h1TBc3KA8Z9V"
      },
      "execution_count": null,
      "outputs": []
    },
    {
      "cell_type": "markdown",
      "source": [
        "#### **ATA_LT 컬럼 제거**\n",
        "HOUR의 상관 계수가 더 높아서 `ATA_LT` 드랍"
      ],
      "metadata": {
        "id": "gID3Y_cv4FSV"
      }
    },
    {
      "cell_type": "code",
      "source": [
        "corrmat = train[['HOUR','ATA_LT', 'CI_HOUR']].corr()\n",
        "corrmat"
      ],
      "metadata": {
        "colab": {
          "base_uri": "https://localhost:8080/",
          "height": 143
        },
        "id": "QwxMxxLq3rDq",
        "outputId": "296f6c7b-38bd-4f81-f63d-d63defaf1f27"
      },
      "execution_count": null,
      "outputs": [
        {
          "output_type": "execute_result",
          "data": {
            "text/plain": [
              "             HOUR    ATA_LT   CI_HOUR\n",
              "HOUR     1.000000 -0.201999  0.008436\n",
              "ATA_LT  -0.201999  1.000000 -0.000283\n",
              "CI_HOUR  0.008436 -0.000283  1.000000"
            ],
            "text/html": [
              "\n",
              "  <div id=\"df-11c700e3-3047-4ddf-a1a6-5f5e22a32795\" class=\"colab-df-container\">\n",
              "    <div>\n",
              "<style scoped>\n",
              "    .dataframe tbody tr th:only-of-type {\n",
              "        vertical-align: middle;\n",
              "    }\n",
              "\n",
              "    .dataframe tbody tr th {\n",
              "        vertical-align: top;\n",
              "    }\n",
              "\n",
              "    .dataframe thead th {\n",
              "        text-align: right;\n",
              "    }\n",
              "</style>\n",
              "<table border=\"1\" class=\"dataframe\">\n",
              "  <thead>\n",
              "    <tr style=\"text-align: right;\">\n",
              "      <th></th>\n",
              "      <th>HOUR</th>\n",
              "      <th>ATA_LT</th>\n",
              "      <th>CI_HOUR</th>\n",
              "    </tr>\n",
              "  </thead>\n",
              "  <tbody>\n",
              "    <tr>\n",
              "      <th>HOUR</th>\n",
              "      <td>1.000000</td>\n",
              "      <td>-0.201999</td>\n",
              "      <td>0.008436</td>\n",
              "    </tr>\n",
              "    <tr>\n",
              "      <th>ATA_LT</th>\n",
              "      <td>-0.201999</td>\n",
              "      <td>1.000000</td>\n",
              "      <td>-0.000283</td>\n",
              "    </tr>\n",
              "    <tr>\n",
              "      <th>CI_HOUR</th>\n",
              "      <td>0.008436</td>\n",
              "      <td>-0.000283</td>\n",
              "      <td>1.000000</td>\n",
              "    </tr>\n",
              "  </tbody>\n",
              "</table>\n",
              "</div>\n",
              "    <div class=\"colab-df-buttons\">\n",
              "\n",
              "  <div class=\"colab-df-container\">\n",
              "    <button class=\"colab-df-convert\" onclick=\"convertToInteractive('df-11c700e3-3047-4ddf-a1a6-5f5e22a32795')\"\n",
              "            title=\"Convert this dataframe to an interactive table.\"\n",
              "            style=\"display:none;\">\n",
              "\n",
              "  <svg xmlns=\"http://www.w3.org/2000/svg\" height=\"24px\" viewBox=\"0 -960 960 960\">\n",
              "    <path d=\"M120-120v-720h720v720H120Zm60-500h600v-160H180v160Zm220 220h160v-160H400v160Zm0 220h160v-160H400v160ZM180-400h160v-160H180v160Zm440 0h160v-160H620v160ZM180-180h160v-160H180v160Zm440 0h160v-160H620v160Z\"/>\n",
              "  </svg>\n",
              "    </button>\n",
              "\n",
              "  <style>\n",
              "    .colab-df-container {\n",
              "      display:flex;\n",
              "      gap: 12px;\n",
              "    }\n",
              "\n",
              "    .colab-df-convert {\n",
              "      background-color: #E8F0FE;\n",
              "      border: none;\n",
              "      border-radius: 50%;\n",
              "      cursor: pointer;\n",
              "      display: none;\n",
              "      fill: #1967D2;\n",
              "      height: 32px;\n",
              "      padding: 0 0 0 0;\n",
              "      width: 32px;\n",
              "    }\n",
              "\n",
              "    .colab-df-convert:hover {\n",
              "      background-color: #E2EBFA;\n",
              "      box-shadow: 0px 1px 2px rgba(60, 64, 67, 0.3), 0px 1px 3px 1px rgba(60, 64, 67, 0.15);\n",
              "      fill: #174EA6;\n",
              "    }\n",
              "\n",
              "    .colab-df-buttons div {\n",
              "      margin-bottom: 4px;\n",
              "    }\n",
              "\n",
              "    [theme=dark] .colab-df-convert {\n",
              "      background-color: #3B4455;\n",
              "      fill: #D2E3FC;\n",
              "    }\n",
              "\n",
              "    [theme=dark] .colab-df-convert:hover {\n",
              "      background-color: #434B5C;\n",
              "      box-shadow: 0px 1px 3px 1px rgba(0, 0, 0, 0.15);\n",
              "      filter: drop-shadow(0px 1px 2px rgba(0, 0, 0, 0.3));\n",
              "      fill: #FFFFFF;\n",
              "    }\n",
              "  </style>\n",
              "\n",
              "    <script>\n",
              "      const buttonEl =\n",
              "        document.querySelector('#df-11c700e3-3047-4ddf-a1a6-5f5e22a32795 button.colab-df-convert');\n",
              "      buttonEl.style.display =\n",
              "        google.colab.kernel.accessAllowed ? 'block' : 'none';\n",
              "\n",
              "      async function convertToInteractive(key) {\n",
              "        const element = document.querySelector('#df-11c700e3-3047-4ddf-a1a6-5f5e22a32795');\n",
              "        const dataTable =\n",
              "          await google.colab.kernel.invokeFunction('convertToInteractive',\n",
              "                                                    [key], {});\n",
              "        if (!dataTable) return;\n",
              "\n",
              "        const docLinkHtml = 'Like what you see? Visit the ' +\n",
              "          '<a target=\"_blank\" href=https://colab.research.google.com/notebooks/data_table.ipynb>data table notebook</a>'\n",
              "          + ' to learn more about interactive tables.';\n",
              "        element.innerHTML = '';\n",
              "        dataTable['output_type'] = 'display_data';\n",
              "        await google.colab.output.renderOutput(dataTable, element);\n",
              "        const docLink = document.createElement('div');\n",
              "        docLink.innerHTML = docLinkHtml;\n",
              "        element.appendChild(docLink);\n",
              "      }\n",
              "    </script>\n",
              "  </div>\n",
              "\n",
              "\n",
              "<div id=\"df-7018f846-f46e-4952-a44f-d9e0b7ceb9a0\">\n",
              "  <button class=\"colab-df-quickchart\" onclick=\"quickchart('df-7018f846-f46e-4952-a44f-d9e0b7ceb9a0')\"\n",
              "            title=\"Suggest charts.\"\n",
              "            style=\"display:none;\">\n",
              "\n",
              "<svg xmlns=\"http://www.w3.org/2000/svg\" height=\"24px\"viewBox=\"0 0 24 24\"\n",
              "     width=\"24px\">\n",
              "    <g>\n",
              "        <path d=\"M19 3H5c-1.1 0-2 .9-2 2v14c0 1.1.9 2 2 2h14c1.1 0 2-.9 2-2V5c0-1.1-.9-2-2-2zM9 17H7v-7h2v7zm4 0h-2V7h2v10zm4 0h-2v-4h2v4z\"/>\n",
              "    </g>\n",
              "</svg>\n",
              "  </button>\n",
              "\n",
              "<style>\n",
              "  .colab-df-quickchart {\n",
              "      --bg-color: #E8F0FE;\n",
              "      --fill-color: #1967D2;\n",
              "      --hover-bg-color: #E2EBFA;\n",
              "      --hover-fill-color: #174EA6;\n",
              "      --disabled-fill-color: #AAA;\n",
              "      --disabled-bg-color: #DDD;\n",
              "  }\n",
              "\n",
              "  [theme=dark] .colab-df-quickchart {\n",
              "      --bg-color: #3B4455;\n",
              "      --fill-color: #D2E3FC;\n",
              "      --hover-bg-color: #434B5C;\n",
              "      --hover-fill-color: #FFFFFF;\n",
              "      --disabled-bg-color: #3B4455;\n",
              "      --disabled-fill-color: #666;\n",
              "  }\n",
              "\n",
              "  .colab-df-quickchart {\n",
              "    background-color: var(--bg-color);\n",
              "    border: none;\n",
              "    border-radius: 50%;\n",
              "    cursor: pointer;\n",
              "    display: none;\n",
              "    fill: var(--fill-color);\n",
              "    height: 32px;\n",
              "    padding: 0;\n",
              "    width: 32px;\n",
              "  }\n",
              "\n",
              "  .colab-df-quickchart:hover {\n",
              "    background-color: var(--hover-bg-color);\n",
              "    box-shadow: 0 1px 2px rgba(60, 64, 67, 0.3), 0 1px 3px 1px rgba(60, 64, 67, 0.15);\n",
              "    fill: var(--button-hover-fill-color);\n",
              "  }\n",
              "\n",
              "  .colab-df-quickchart-complete:disabled,\n",
              "  .colab-df-quickchart-complete:disabled:hover {\n",
              "    background-color: var(--disabled-bg-color);\n",
              "    fill: var(--disabled-fill-color);\n",
              "    box-shadow: none;\n",
              "  }\n",
              "\n",
              "  .colab-df-spinner {\n",
              "    border: 2px solid var(--fill-color);\n",
              "    border-color: transparent;\n",
              "    border-bottom-color: var(--fill-color);\n",
              "    animation:\n",
              "      spin 1s steps(1) infinite;\n",
              "  }\n",
              "\n",
              "  @keyframes spin {\n",
              "    0% {\n",
              "      border-color: transparent;\n",
              "      border-bottom-color: var(--fill-color);\n",
              "      border-left-color: var(--fill-color);\n",
              "    }\n",
              "    20% {\n",
              "      border-color: transparent;\n",
              "      border-left-color: var(--fill-color);\n",
              "      border-top-color: var(--fill-color);\n",
              "    }\n",
              "    30% {\n",
              "      border-color: transparent;\n",
              "      border-left-color: var(--fill-color);\n",
              "      border-top-color: var(--fill-color);\n",
              "      border-right-color: var(--fill-color);\n",
              "    }\n",
              "    40% {\n",
              "      border-color: transparent;\n",
              "      border-right-color: var(--fill-color);\n",
              "      border-top-color: var(--fill-color);\n",
              "    }\n",
              "    60% {\n",
              "      border-color: transparent;\n",
              "      border-right-color: var(--fill-color);\n",
              "    }\n",
              "    80% {\n",
              "      border-color: transparent;\n",
              "      border-right-color: var(--fill-color);\n",
              "      border-bottom-color: var(--fill-color);\n",
              "    }\n",
              "    90% {\n",
              "      border-color: transparent;\n",
              "      border-bottom-color: var(--fill-color);\n",
              "    }\n",
              "  }\n",
              "</style>\n",
              "\n",
              "  <script>\n",
              "    async function quickchart(key) {\n",
              "      const quickchartButtonEl =\n",
              "        document.querySelector('#' + key + ' button');\n",
              "      quickchartButtonEl.disabled = true;  // To prevent multiple clicks.\n",
              "      quickchartButtonEl.classList.add('colab-df-spinner');\n",
              "      try {\n",
              "        const charts = await google.colab.kernel.invokeFunction(\n",
              "            'suggestCharts', [key], {});\n",
              "      } catch (error) {\n",
              "        console.error('Error during call to suggestCharts:', error);\n",
              "      }\n",
              "      quickchartButtonEl.classList.remove('colab-df-spinner');\n",
              "      quickchartButtonEl.classList.add('colab-df-quickchart-complete');\n",
              "    }\n",
              "    (() => {\n",
              "      let quickchartButtonEl =\n",
              "        document.querySelector('#df-7018f846-f46e-4952-a44f-d9e0b7ceb9a0 button');\n",
              "      quickchartButtonEl.style.display =\n",
              "        google.colab.kernel.accessAllowed ? 'block' : 'none';\n",
              "    })();\n",
              "  </script>\n",
              "</div>\n",
              "    </div>\n",
              "  </div>\n"
            ]
          },
          "metadata": {},
          "execution_count": 43
        }
      ]
    },
    {
      "cell_type": "code",
      "source": [
        "# ATA_LT 드랍\n",
        "train.drop(columns='ATA_LT', inplace=True)\n",
        "test.drop(columns='ATA_LT', inplace=True)"
      ],
      "metadata": {
        "id": "J_k6tP473Yoz"
      },
      "execution_count": null,
      "outputs": []
    },
    {
      "cell_type": "markdown",
      "source": [
        "#### **요일별 평균 대기 시간 그래프**"
      ],
      "metadata": {
        "id": "7cqO4oW85vgr"
      }
    },
    {
      "cell_type": "code",
      "source": [
        "sns.pointplot(x='WEEKDAY', y='CI_HOUR', data=train)"
      ],
      "metadata": {
        "id": "VMAZwnWQ4dqK"
      },
      "execution_count": null,
      "outputs": []
    },
    {
      "cell_type": "code",
      "source": [
        "train.groupby('WEEKDAY')['CI_HOUR'].agg(['mean', 'std', 'min', 'max'])"
      ],
      "metadata": {
        "id": "OPDztoXV0qDD"
      },
      "execution_count": null,
      "outputs": []
    },
    {
      "cell_type": "markdown",
      "source": [
        "- 평일과 주말로 나눠봐도 좋을 것 같다."
      ],
      "metadata": {
        "id": "I7y6Ijq25QWn"
      }
    },
    {
      "cell_type": "markdown",
      "source": [
        "#### **Cyclical Time Encoding**"
      ],
      "metadata": {
        "id": "3Dz8fxRK696t"
      }
    },
    {
      "cell_type": "code",
      "source": [
        "train['SIN_TIME'] = np.sin(2*np.pi*train.HOUR/24)\n",
        "train['COS_TIME'] = np.cos(2*np.pi*train.HOUR/24)"
      ],
      "metadata": {
        "id": "5J5gSGA36-ZR"
      },
      "execution_count": null,
      "outputs": []
    },
    {
      "cell_type": "code",
      "source": [
        "test['SIN_TIME'] = np.sin(2*np.pi*test.HOUR/24)\n",
        "test['COS_TIME'] = np.cos(2*np.pi*test.HOUR/24)"
      ],
      "metadata": {
        "id": "bBZlwLjt-eU2"
      },
      "execution_count": null,
      "outputs": []
    },
    {
      "cell_type": "code",
      "source": [
        "train.drop(['HOUR'], axis = 1, inplace = True)\n",
        "test.drop(['HOUR'], axis = 1, inplace = True)"
      ],
      "metadata": {
        "id": "z414EN7g-WFz"
      },
      "execution_count": null,
      "outputs": []
    },
    {
      "cell_type": "markdown",
      "source": [
        "### **4. 로그 변환 및 스케일링**"
      ],
      "metadata": {
        "id": "xCyF5Vi3_M4j"
      }
    },
    {
      "cell_type": "code",
      "source": [
        "positive_list = ['DIST', 'BDI_ADJ', 'PORT_SIZE','BN']\n",
        "negative_list = ['GT_PCA', 'U_WIND','V_WIND', 'AIR_TEMPERATURE', 'OIL_PCA']\n",
        "\n",
        "for col in positive_list:\n",
        "  train[\"LOG_\"+col] = np.log1p(train[col])\n",
        "  test[\"LOG_\"+col] = np.log1p(test[col])\n",
        "\n",
        "  train.drop(columns=col, inplace=True)\n",
        "  test.drop(columns=col, inplace=True)\n",
        "\n",
        "for col in negative_list:\n",
        "  train[\"LOG_\"+col] = np.log1p(abs(train[col]))\n",
        "  train.loc[train[col]<0, \"LOG_\"+col] = -train[col]\n",
        "\n",
        "  test[\"LOG_\"+col] = np.log1p(abs(test[col]))\n",
        "  test.loc[train[col]<0, \"LOG_\"+col] = -test[col]"
      ],
      "metadata": {
        "id": "stqwYAQL_QVB"
      },
      "execution_count": null,
      "outputs": []
    },
    {
      "cell_type": "markdown",
      "source": [
        "### **5. 카테고리 변수 인코딩**"
      ],
      "metadata": {
        "id": "ee2PUwGODVSX"
      }
    },
    {
      "cell_type": "code",
      "source": [
        "from sklearn.preprocessing import LabelEncoder\n",
        "\n",
        "categorical_features = ['DEPTH', 'DRAUGHT', 'ARI_CO', 'ARI_PO', 'SHIPMANAGER', 'FLAG', 'ID', 'SHIP_TYPE_CATEGORY']\n",
        "encoders = {}\n",
        "\n",
        "for feature in tqdm(categorical_features, desc=\"Encoding features\"):\n",
        "  le = LabelEncoder()\n",
        "  train[feature] = le.fit_transform(train[feature].astype(str))\n",
        "  le_classes_set = set(le.classes_)\n",
        "  test[feature] = test[feature].map(lambda s: '-1' if s not in le_classes_set else s)\n",
        "  le_classes = le.classes_.tolist()\n",
        "  bisect.insort_left(le_classes, '-1')\n",
        "  le.classes_ = np.array(le_classes)\n",
        "  test[feature] = le.transform(test[feature].astype(str))\n",
        "  encoders[feature] = le"
      ],
      "metadata": {
        "id": "WH5jP_L7DicG",
        "colab": {
          "base_uri": "https://localhost:8080/"
        },
        "outputId": "c97c6a6d-ed94-433f-b9bf-9c1d287bff67"
      },
      "execution_count": null,
      "outputs": [
        {
          "output_type": "stream",
          "name": "stderr",
          "text": [
            "Encoding features: 100%|██████████| 8/8 [00:06<00:00,  1.24it/s]\n"
          ]
        }
      ]
    },
    {
      "cell_type": "markdown",
      "source": [
        "## **| 데이터 저장**"
      ],
      "metadata": {
        "id": "Tx9RxcQqLHxp"
      }
    },
    {
      "cell_type": "code",
      "source": [
        "train.to_csv('/content/drive/MyDrive/HD현대 AI Challenge/YOUN/train_1013.csv')\n",
        "test.to_csv('/content/drive/MyDrive/HD현대 AI Challenge/YOUN/test_1013.csv')"
      ],
      "metadata": {
        "id": "QcABWzJGLDer"
      },
      "execution_count": null,
      "outputs": []
    },
    {
      "cell_type": "markdown",
      "source": [
        "## **| 모델 학습 및 특성 중요도 확인**"
      ],
      "metadata": {
        "id": "Cci9HrVOYjdf"
      }
    },
    {
      "cell_type": "code",
      "source": [
        "X = train.drop(['CI_HOUR'], axis=1)\n",
        "Y = train[\"CI_HOUR\"]\n",
        "\n",
        "# 학습/검증 데이터셋 분리\n",
        "from sklearn.model_selection import train_test_split\n",
        "X_train, X_valid, y_train, y_valid = train_test_split(X, Y, test_size=0.4, random_state=0)"
      ],
      "metadata": {
        "id": "XUp6Ohgy2tV2"
      },
      "execution_count": null,
      "outputs": []
    },
    {
      "cell_type": "code",
      "source": [
        "from sklearn.model_selection import KFold\n",
        "from sklearn.metrics import mean_absolute_error\n",
        "\n",
        "xgb = XGBRegressor(learning_rate=0.1, max_depth=6, n_estimators=400)\n",
        "\n",
        "# 5-Fold 설정\n",
        "kf = KFold(n_splits=5, shuffle=True, random_state=0)\n",
        "\n",
        "# 각 fold의 모델로부터의 예측을 저장할 리스트와 MAE 점수 리스트\n",
        "ensemble_predictions = []\n",
        "scores = []\n",
        "\n",
        "for train_idx, val_idx in tqdm(kf.split(X_train_reduced), total=5, desc=\"Processing folds\"):\n",
        "    X_t, X_val = X_train_reduced.iloc[train_idx], X_train_reduced.iloc[val_idx]\n",
        "    y_t, y_val = Y[train_idx], Y[val_idx]\n",
        "\n",
        "    # 두 모델 모두 학습\n",
        "    xgb.fit(X_t, y_t)\n",
        "\n",
        "    # 각 모델로부터 Validation set에 대한 예측을 평균내어 앙상블 예측 생성\n",
        "    val_pred = xgb.predict(X_val)\n",
        "\n",
        "    # Validation set에 대한 대회 평가 산식 계산 후 저장\n",
        "    scores.append(mean_absolute_error(y_val, val_pred))\n",
        "\n",
        "    # test 데이터셋에 대한 예측 수행 후 저장\n",
        "    lgbm_pred = xgb.predict(X_test_reduced)\n",
        "    lgbm_pred = np.where(lgbm_pred < 0, 0, lgbm_pred)\n",
        "\n",
        "    ensemble_predictions.append(lgbm_pred)\n",
        "\n",
        "# K-fold 모든 예측의 평균을 계산하여 fold 별 모델들의 앙상블 예측 생성\n",
        "final = np.mean(ensemble_predictions, axis=0)\n",
        "\n",
        "# 각 fold에서의 Validation Metric Score와 전체 평균 Validation Metric Score출력\n",
        "print(\"Validation : MAE scores for each fold:\", scores)\n",
        "print(\"Validation : MAE:\", np.mean(scores))"
      ],
      "metadata": {
        "colab": {
          "base_uri": "https://localhost:8080/"
        },
        "id": "LQv6abNx6FEL",
        "outputId": "1146f877-fa4b-4598-8a74-3ef0c253482a"
      },
      "execution_count": null,
      "outputs": [
        {
          "output_type": "stream",
          "name": "stderr",
          "text": [
            "Processing folds: 100%|██████████| 5/5 [01:28<00:00, 17.62s/it]"
          ]
        },
        {
          "output_type": "stream",
          "name": "stdout",
          "text": [
            "Validation : MAE scores for each fold: [44.280018981369324, 44.30191820776125, 44.312464520810316, 44.485544047106416, 44.33259403131593]\n",
            "Validation : MAE: 44.34250795767265\n"
          ]
        },
        {
          "output_type": "stream",
          "name": "stderr",
          "text": [
            "\n"
          ]
        }
      ]
    },
    {
      "cell_type": "code",
      "source": [
        "train.CI_HOUR"
      ],
      "metadata": {
        "colab": {
          "base_uri": "https://localhost:8080/"
        },
        "id": "dge6VbrybLXI",
        "outputId": "412c6c51-1fd9-4d17-a88a-84c6fd2d48bf"
      },
      "execution_count": null,
      "outputs": [
        {
          "output_type": "execute_result",
          "data": {
            "text/plain": [
              "0          3.048333\n",
              "1         17.138611\n",
              "2         98.827500\n",
              "3          0.000000\n",
              "4         96.030556\n",
              "            ...    \n",
              "367436    65.850000\n",
              "367437     0.000000\n",
              "367438     0.997500\n",
              "367439     0.000000\n",
              "367440     8.464167\n",
              "Name: CI_HOUR, Length: 367441, dtype: float64"
            ]
          },
          "metadata": {},
          "execution_count": 73
        }
      ]
    },
    {
      "cell_type": "code",
      "source": [
        "final"
      ],
      "metadata": {
        "colab": {
          "base_uri": "https://localhost:8080/"
        },
        "id": "m1fgRXc3bEAB",
        "outputId": "ec74f4b6-b660-4496-a2bf-9602857e7185"
      },
      "execution_count": null,
      "outputs": [
        {
          "output_type": "execute_result",
          "data": {
            "text/plain": [
              "array([ 152.41458 ,  250.59578 ,   76.769455, ...,  582.03894 ,\n",
              "         59.902203, 1025.2869  ], dtype=float32)"
            ]
          },
          "metadata": {},
          "execution_count": 74
        }
      ]
    },
    {
      "cell_type": "markdown",
      "source": [
        "## **| 제출 파일 생성**"
      ],
      "metadata": {
        "id": "LqppwAhJoKhQ"
      }
    },
    {
      "cell_type": "code",
      "source": [
        "submit = pd.read_csv('/content/drive/MyDrive/HD현대 AI Challenge/Data/sample_submission.csv')\n",
        "submit['CI_HOUR'] = final\n",
        "submit.to_csv('/content/drive/MyDrive/HD현대 AI Challenge/YOUN/submit1013_2.csv', index=False)"
      ],
      "metadata": {
        "id": "m0797F5vYtQO"
      },
      "execution_count": null,
      "outputs": []
    }
  ]
}